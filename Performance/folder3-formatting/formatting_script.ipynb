{
 "cells": [
  {
   "cell_type": "code",
   "execution_count": null,
   "metadata": {},
   "outputs": [],
   "source": [
    "# %%\n",
    "## Setup\n",
    "from openai import OpenAI\n",
    "import json\n",
    "import csv\n",
    "import os\n",
    "\n",
    "os.environ[\"OPENAI_API_KEY\"] = \"\"\n",
    "client = OpenAI()"
   ]
  },
  {
   "cell_type": "code",
   "execution_count": null,
   "metadata": {},
   "outputs": [],
   "source": [
    "\n",
    "\n",
    "# %%\n",
    "## Batch Options\n",
    "\n",
    "# Datasets\n",
    "dataset = \"dataset-100.csv\"\n",
    "# dataset = \"dataset-3.csv\"\n",
    "\n",
    "# Jobs\n",
    "jobName = \"One 100 Row Job\"\n",
    "# jobName = \"Sample 3 Row Job\"\n",
    "\n",
    "# Json Format\n",
    "string1 = \"{\\\"custom_id\\\": \\\"request-\" \n",
    "string2 = \"\\\", \\\"method\\\": \\\"POST\\\", \\\"url\\\": \\\"/v1/chat/completions\\\", \\\"body\\\": {\\\"model\\\": \\\"gpt-3.5-turbo-0125\\\", \\\"messages\\\": [{\\\"role\\\": \\\"system\\\", \\\"content\\\": \\\"You are an sentiment analyst.\\\"},{\\\"role\\\": \\\"user\\\", \\\"content\\\": \\\"\"\n",
    "string3 = \"\\\"}],\\\"max_tokens\\\": 3000}}\""
   ]
  },
  {
   "cell_type": "code",
   "execution_count": null,
   "metadata": {},
   "outputs": [],
   "source": [
    "## Create a jsonl file in OpenAI's Format\n",
    "\n",
    "with open(dataset, mode=\"r\", newline=\"\", encoding=\"utf-8\") as csv_file:\n",
    "    with open(\"data.jsonl\", mode=\"w\", encoding=\"utf-8\") as jsonl_file:\n",
    "        \n",
    "        reader = csv.reader(csv_file)\n",
    "        \n",
    "        for row in reader:\n",
    "            sampleString = string1\n",
    "            \n",
    "            sampleString = sampleString + row[0]\n",
    "            sampleString = sampleString + string2\n",
    "            \n",
    "            sampleString = sampleString + row[1].replace('\"', '\\\\\"')\n",
    "            sampleString = sampleString + string3\n",
    "            \n",
    "            jsonl_file.write(sampleString + \"\\n\") "
   ]
  },
  {
   "cell_type": "code",
   "execution_count": null,
   "metadata": {},
   "outputs": [],
   "source": [
    "## Upload Batch Input File\n",
    "batch_input_file = client.files.create(\n",
    "    file=open(\"data.jsonl\", \"rb\"),\n",
    "    purpose=\"batch\"\n",
    ")\n",
    "\n",
    "response_dict = batch_input_file.model_dump()\n",
    "\n",
    "with open(\"batch-upload.json\", \"w\", encoding=\"utf-8\") as json_file:\n",
    "    json.dump(response_dict, json_file, indent=4)\n",
    "\n",
    "\n",
    "# print(batch_input_file)"
   ]
  },
  {
   "cell_type": "code",
   "execution_count": null,
   "metadata": {},
   "outputs": [],
   "source": [
    "## Creating the Batch Job\n",
    "batch_input_file_id = batch_input_file.id\n",
    "\n",
    "batch_create_file = client.batches.create(\n",
    "    input_file_id=batch_input_file_id,\n",
    "    endpoint=\"/v1/chat/completions\",\n",
    "    completion_window=\"24h\",\n",
    "    metadata={\n",
    "        \"description\": jobName\n",
    "    }\n",
    ")\n",
    "\n",
    "response_dict = batch_create_file.model_dump()\n",
    "\n",
    "with open(\"batch-created.json\", \"w\", encoding=\"utf-8\") as json_file:\n",
    "    json.dump(response_dict, json_file, indent=4)\n"
   ]
  }
 ],
 "metadata": {
  "language_info": {
   "name": "python"
  },
  "orig_nbformat": 4
 },
 "nbformat": 4,
 "nbformat_minor": 2
}
