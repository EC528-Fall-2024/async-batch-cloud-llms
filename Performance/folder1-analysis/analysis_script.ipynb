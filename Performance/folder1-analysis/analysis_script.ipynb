{
 "cells": [
  {
   "cell_type": "code",
   "execution_count": null,
   "metadata": {},
   "outputs": [],
   "source": [
    "## Setup\n",
    "from openai import OpenAI\n",
    "import json\n",
    "\n",
    "import os\n",
    "\n",
    "os.environ[\"OPENAI_API_KEY\"] = \"\"\n",
    "client = OpenAI()\n",
    "\n",
    "# %%\n",
    "## Variables ##\n",
    "\n",
    "# The batch ID can be found on \"batch-created.json\"\n",
    "batch_id = \"batch_67a3efbd6ed08190823276b5dbc84930\"\n",
    "\n",
    "output_file_id = \"file-SwiSASXBjZbUmBzUkNZYL8\""
   ]
  },
  {
   "cell_type": "code",
   "execution_count": null,
   "metadata": {},
   "outputs": [],
   "source": [
    "## List Batches\n",
    "response = client.batches.list()\n",
    "\n",
    "response_dict = response.model_dump()\n",
    "\n",
    "with open(\"batch-list.json\", \"w\", encoding=\"utf-8\") as json_file:\n",
    "    json.dump(response_dict, json_file, indent=4)\n",
    "\n",
    "\n",
    "# %%\n",
    "## Checking the Status of a Batch\n",
    "response = client.batches.retrieve(batch_id)\n",
    "response_dict = response.model_dump()  \n",
    "\n",
    "with open(\"batch-status.json\", \"w\", encoding=\"utf-8\") as json_file:\n",
    "    json.dump(response_dict, json_file, indent=4)"
   ]
  },
  {
   "cell_type": "code",
   "execution_count": null,
   "metadata": {},
   "outputs": [],
   "source": [
    "## Retrieving the Results\n",
    "file_response = client.files.content(output_file_id)\n",
    "# print(type(file_response.text))\n",
    "\n",
    "json_list = [json.loads(line) for line in file_response.text.split(\"\\n\") if line.strip()]\n",
    "\n",
    "# Save to a .json file\n",
    "with open(\"batch-retrieve.json\", \"w\") as json_file:\n",
    "    json.dump(json_list, json_file, indent=4)"
   ]
  }
 ],
 "metadata": {
  "language_info": {
   "name": "python"
  },
  "orig_nbformat": 4
 },
 "nbformat": 4,
 "nbformat_minor": 2
}
