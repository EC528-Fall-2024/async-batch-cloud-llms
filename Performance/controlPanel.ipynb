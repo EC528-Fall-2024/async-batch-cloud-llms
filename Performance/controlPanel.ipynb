{
 "cells": [
  {
   "cell_type": "markdown",
   "metadata": {},
   "source": [
    "# Pipeline Control Panel"
   ]
  },
  {
   "cell_type": "code",
   "execution_count": 3,
   "metadata": {},
   "outputs": [],
   "source": [
    "import requests\n",
    "# Container URL\n",
    "\n",
    "# VM URL\n",
    "# base_url = \"http://34.27.114.71:8080\"\n",
    "\n",
    "# Local URL\n",
    "base_url = \"http://localhost:8089\"\n"
   ]
  },
  {
   "cell_type": "code",
   "execution_count": 4,
   "metadata": {},
   "outputs": [
    {
     "name": "stdout",
     "output_type": "stream",
     "text": [
      "Success\n"
     ]
    }
   ],
   "source": [
    "def resetSystem(Job_ID):\n",
    "    \n",
    "    json_body = {\"Job_ID\": Job_ID}\n",
    "    headers = {\"Content-Type\": \"application/json\"}\n",
    "\n",
    "    response = requests.get(\n",
    "        f\"{base_url}/resetSystem\",\n",
    "        json=json_body,  # Add JSON body\n",
    "        headers=headers   # Add headers\n",
    "    )\n",
    "    \n",
    "    if response.status_code == 200:\n",
    "        print(\"Success\") # remove for implemetation\n",
    "    \n",
    "# function call\n",
    "resetSystem(1)\n"
   ]
  }
 ],
 "metadata": {
  "kernelspec": {
   "display_name": "base",
   "language": "python",
   "name": "python3"
  },
  "language_info": {
   "codemirror_mode": {
    "name": "ipython",
    "version": 3
   },
   "file_extension": ".py",
   "mimetype": "text/x-python",
   "name": "python",
   "nbconvert_exporter": "python",
   "pygments_lexer": "ipython3",
   "version": "3.9.7"
  },
  "orig_nbformat": 4
 },
 "nbformat": 4,
 "nbformat_minor": 2
}
