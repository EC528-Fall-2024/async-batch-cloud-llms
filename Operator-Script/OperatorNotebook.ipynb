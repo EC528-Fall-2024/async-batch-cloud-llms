{
 "cells": [
  {
   "cell_type": "markdown",
   "metadata": {},
   "source": [
    "# **Operator User Interface**"
   ]
  },
  {
   "cell_type": "markdown",
   "metadata": {},
   "source": [
    "## **Setup**"
   ]
  },
  {
   "cell_type": "code",
   "execution_count": 2,
   "metadata": {},
   "outputs": [],
   "source": [
    "## Setup\n",
    "from UI_firebase_helper_files import getAllClients, getAllInfoAboutClient, getAllInfoAboutJob, getJobStatistics, getErrorInformation, getErrorRows, produceInvoice, runDashboard\n",
    "from google.cloud import firestore\n",
    "import json\n",
    "\n",
    "db = firestore.Client()\n",
    "\n",
    "exampleClient = \"test\"\n",
    "exampleJob = \"Job a0a2e5d4-ec80-4545-a463-3e1966d2076d\"\n"
   ]
  },
  {
   "cell_type": "markdown",
   "metadata": {},
   "source": [
    "---"
   ]
  },
  {
   "cell_type": "markdown",
   "metadata": {},
   "source": [
    "## **Pipeline Overview**"
   ]
  },
  {
   "cell_type": "markdown",
   "metadata": {},
   "source": [
    "### Pipeline Users"
   ]
  },
  {
   "cell_type": "code",
   "execution_count": 3,
   "metadata": {},
   "outputs": [
    {
     "name": "stdout",
     "output_type": "stream",
     "text": [
      "===================\n",
      "TurboBatch Clients:\n",
      "1: test\n",
      "===================\n"
     ]
    }
   ],
   "source": [
    "allClients = getAllClients(db)\n",
    "\n",
    "print(\"===================\")\n",
    "\n",
    "print(\"TurboBatch Clients:\")\n",
    "\n",
    "i = 0\n",
    "for client in allClients:\n",
    "    print(str(i+1) + \": \" + client)\n",
    "    \n",
    "print(\"===================\")\n"
   ]
  },
  {
   "cell_type": "markdown",
   "metadata": {},
   "source": [
    "### Client Information"
   ]
  },
  {
   "cell_type": "code",
   "execution_count": 4,
   "metadata": {},
   "outputs": [
    {
     "name": "stdout",
     "output_type": "stream",
     "text": [
      "===================\n",
      "TurboBatch Information for Client: test\n",
      "Job 1: Job a0a2e5d4-ec80-4545-a463-3e1966d2076d\n",
      "===================\n"
     ]
    }
   ],
   "source": [
    "\n",
    "clientInformation = getAllInfoAboutClient(db, exampleClient)\n",
    "\n",
    "print(\"===================\")\n",
    "print(\"TurboBatch Information for Client: \" + exampleClient)\n",
    "\n",
    "\n",
    "i = 0\n",
    "for job_id in clientInformation[\"Job_IDs\"]:\n",
    "    print(\"Job \" + str(i+1) + \": \" + job_id)\n",
    "\n",
    "    \n",
    "# print(type(exampleClient))  # This will tell you whether it's a string, dict, list, etc.\n",
    "# print(clientInformation)\n",
    "print(\"===================\")\n"
   ]
  },
  {
   "cell_type": "markdown",
   "metadata": {},
   "source": [
    "### Job Information"
   ]
  },
  {
   "cell_type": "code",
   "execution_count": 5,
   "metadata": {},
   "outputs": [
    {
     "name": "stdout",
     "output_type": "stream",
     "text": [
      "===================\n",
      "TurboBatch Information for client test job: Job a0a2e5d4-ec80-4545-a463-3e1966d2076d\n",
      "\n",
      "Start Time:  Friday, November 29, 2024 at 02:00:05 AM EST\n",
      "Model:       gpt-3.5-turbo\n",
      "===================\n"
     ]
    }
   ],
   "source": [
    "jobInformation = getAllInfoAboutJob(db, exampleClient, exampleJob)\n",
    "\n",
    "print(\"===================\")\n",
    "print(\"TurboBatch Information for client \" + exampleClient + \" job: \" + exampleJob)\n",
    "print()\n",
    "print(\"Start Time: \",jobInformation[\"Start_Time\"])\n",
    "print(\"Model:      \", jobInformation[\"Model\"])\n",
    "print(\"===================\")"
   ]
  },
  {
   "cell_type": "markdown",
   "metadata": {},
   "source": [
    "### Job Statistics"
   ]
  },
  {
   "cell_type": "code",
   "execution_count": 6,
   "metadata": {},
   "outputs": [
    {
     "name": "stdout",
     "output_type": "stream",
     "text": [
      "===================\n",
      "TurboBatch Statistics for job: Job a0a2e5d4-ec80-4545-a463-3e1966d2076d\n",
      "\n",
      "Avg Time:             4.198631928517268\n",
      "\n",
      "Avg Time Before LLM:  1.8854964513045087\n",
      "Avg Time In LLM:      1.0767964399777925\n",
      "Avg Time After LLM:   1.2363390372349665\n",
      "===================\n"
     ]
    }
   ],
   "source": [
    "jobStatistics = getJobStatistics(db, exampleClient, exampleJob)\n",
    "\n",
    "\n",
    "print(\"===================\")\n",
    "print(\"TurboBatch Statistics for job: \" + exampleJob)\n",
    "print()\n",
    "print(\"Avg Time:            \", jobStatistics [\"average_time\"])\n",
    "print()\n",
    "print(\"Avg Time Before LLM: \", jobStatistics [\"average_time_before_llm\"])\n",
    "print(\"Avg Time In LLM:     \", jobStatistics [\"average_time_in_llm\"])\n",
    "print(\"Avg Time After LLM:  \", jobStatistics [\"average_time_after_llm\"]) \n",
    "print(\"===================\")"
   ]
  },
  {
   "cell_type": "markdown",
   "metadata": {},
   "source": [
    "### Produce Invoice "
   ]
  },
  {
   "cell_type": "code",
   "execution_count": 7,
   "metadata": {},
   "outputs": [
    {
     "name": "stdout",
     "output_type": "stream",
     "text": [
      "===================\n",
      "TurboBatch Invoice for job: Job a0a2e5d4-ec80-4545-a463-3e1966d2076d\n",
      "\n",
      "Client ID:          test\n",
      "Job ID:             a0a2e5d4-ec80-4545-a463-3e1966d2076d\n",
      "LLM Cost:           $ 0.0032\n",
      "Start Date:         Friday, November 29, 2024 at 02:00:05 AM EST\n",
      "Total Time (mins):  34\n",
      "===================\n"
     ]
    }
   ],
   "source": [
    "invoiceInformation = produceInvoice(db, exampleClient, exampleJob)\n",
    "\n",
    "\n",
    "print(\"===================\")\n",
    "print(\"TurboBatch Invoice for job: \" + exampleJob)\n",
    "print()\n",
    "print(\"Client ID:         \", invoiceInformation [\"Client_ID\"])\n",
    "print(\"Job ID:            \", invoiceInformation [\"Job_ID\"])\n",
    "print(\"LLM Cost:           $\", invoiceInformation[\"total_llm_cost\"])\n",
    "print(\"Start Date:        \", invoiceInformation [\"Start_Time\"]) \n",
    "print(\"Total Time (mins): \", invoiceInformation [\"total_time\"])\n",
    "\n",
    "print(\"===================\")\n"
   ]
  },
  {
   "cell_type": "markdown",
   "metadata": {},
   "source": [
    "---"
   ]
  },
  {
   "cell_type": "markdown",
   "metadata": {},
   "source": [
    "## **Errors**"
   ]
  },
  {
   "cell_type": "markdown",
   "metadata": {},
   "source": [
    "### Error Information"
   ]
  },
  {
   "cell_type": "code",
   "execution_count": null,
   "metadata": {},
   "outputs": [],
   "source": [
    "errorRows = getErrorInformation(db, exampleClient, exampleJob)\n",
    "\n",
    "\n",
    "print(\"===================\")\n",
    "print(\"TurboBatch Error Rows for job: \" + exampleJob)\n",
    "print()\n",
    "i = 0\n",
    "for rows in errorRows:\n",
    "    print(rows)\n",
    "print()\n",
    "print(\"===================\")"
   ]
  },
  {
   "cell_type": "markdown",
   "metadata": {},
   "source": [
    "### Error Rows"
   ]
  },
  {
   "cell_type": "code",
   "execution_count": null,
   "metadata": {},
   "outputs": [],
   "source": [
    "errorRows = getErrorRows(db, exampleClient, exampleJob)\n",
    "\n",
    "\n",
    "print(\"===================\")\n",
    "print(\"TurboBatch Error Rows for job: \" + exampleJob)\n",
    "print()\n",
    "i = 0\n",
    "for rows in errorRows:\n",
    "    print(\"ERROR in row: \" + str(rows))\n",
    "print(\"===================\")\n"
   ]
  },
  {
   "cell_type": "markdown",
   "metadata": {},
   "source": [
    "## **Performance**\n"
   ]
  },
  {
   "cell_type": "markdown",
   "metadata": {},
   "source": [
    "### ... Coming Soon"
   ]
  }
 ],
 "metadata": {
  "kernelspec": {
   "display_name": "base",
   "language": "python",
   "name": "python3"
  },
  "language_info": {
   "codemirror_mode": {
    "name": "ipython",
    "version": 3
   },
   "file_extension": ".py",
   "mimetype": "text/x-python",
   "name": "python",
   "nbconvert_exporter": "python",
   "pygments_lexer": "ipython3",
   "version": "3.9.7"
  },
  "orig_nbformat": 4
 },
 "nbformat": 4,
 "nbformat_minor": 2
}
