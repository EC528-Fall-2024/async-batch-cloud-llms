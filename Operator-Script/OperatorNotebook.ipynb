{
 "cells": [
  {
   "cell_type": "code",
   "execution_count": null,
   "metadata": {},
   "outputs": [],
   "source": [
    "# Functions\n",
    "\n",
    "# Get All Clients\n",
    "\n",
    "# Get Info About a Client\n",
    "\n",
    "# Get Info About a Job\n",
    "\n",
    "# Monitor Jobd"
   ]
  }
 ],
 "metadata": {
  "language_info": {
   "name": "python"
  },
  "orig_nbformat": 4
 },
 "nbformat": 4,
 "nbformat_minor": 2
}
