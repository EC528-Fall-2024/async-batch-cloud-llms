{
 "cells": [
  {
   "cell_type": "markdown",
   "metadata": {},
   "source": [
    "## **TurboBatch Operator Dashboard**\n",
    "\n",
    "### **Environment Set-up**\n",
    "This dashboard requires certain packages be installed. Please make sure to `pip install -r requirements.txt` in your environment before continuing. Additionally run the following cell:\n",
    "\n"
   ]
  },
  {
   "cell_type": "code",
   "execution_count": 5,
   "metadata": {},
   "outputs": [],
   "source": [
    "## Setup\n",
    "from UI_firebase_helper_files import getAllClients, getAllInfoAboutClient, getAllInfoAboutJob, getJobStatistics, getErrorInformation, getErrorRows, produceInvoice, runDashboard\n",
    "from google.cloud import firestore\n",
    "import json\n",
    "\n",
    "db = firestore.Client()\n",
    "\n",
    "## TODO Remove and move to later\n",
    "exampleClient = \"test\"\n",
    "exampleJob = \"Job 9af9d723-194a-4528-80b4-7eb1fcf14134\"\n"
   ]
  },
  {
   "cell_type": "markdown",
   "metadata": {},
   "source": [
    "---"
   ]
  },
  {
   "cell_type": "markdown",
   "metadata": {},
   "source": [
    "## **Pipeline Overview**"
   ]
  },
  {
   "cell_type": "markdown",
   "metadata": {},
   "source": [
    "### Pipeline Users\n",
    "This command will show all of the current clients in the project"
   ]
  },
  {
   "cell_type": "code",
   "execution_count": 6,
   "metadata": {},
   "outputs": [
    {
     "name": "stdout",
     "output_type": "stream",
     "text": [
      "===================\n",
      "TurboBatch Clients:\n",
      "1: John Stamos\n",
      "2: Rick Sorkin\n",
      "3: SBF\n",
      "4: test\n",
      "5: test_bqt\n",
      "===================\n"
     ]
    }
   ],
   "source": [
    "allClients = getAllClients(db)\n",
    "\n",
    "print(\"===================\")\n",
    "\n",
    "print(\"TurboBatch Clients:\")\n",
    "\n",
    "for i, client in enumerate(allClients, start=1):\n",
    "    print(f\"{i}: {client}\")\n",
    "\n",
    "    \n",
    "print(\"===================\")\n"
   ]
  },
  {
   "cell_type": "markdown",
   "metadata": {},
   "source": [
    "### Client Information\n",
    "This command will show all of the information (metadata) for a given client"
   ]
  },
  {
   "cell_type": "code",
   "execution_count": 7,
   "metadata": {},
   "outputs": [
    {
     "name": "stdout",
     "output_type": "stream",
     "text": [
      "===================\n",
      "TurboBatch Information for Client: test\n",
      "Job 1: Job 07e6a62d-7850-401f-9968-a21ff50396de\n",
      "Job 2: Job 207bfe5d-c702-4ab6-8b91-1b876ee9e24c\n",
      "Job 3: Job 27173a7e-0abb-487a-b5ed-2a9eafc3e823\n",
      "Job 4: Job 31aa8469-76d6-4210-b2f9-39c08fda7ad4\n",
      "Job 5: Job 3261289e-e03f-42b1-8a46-5b34bc23f48d\n",
      "Job 6: Job 49c05c59-47f2-431e-86d5-d761b62be6cd\n",
      "Job 7: Job 5be44d9e-95fe-4993-a452-ebe775ed8658\n",
      "Job 8: Job 5edd549d-6ea7-49ce-9c0d-e2509f0dcf6a\n",
      "Job 9: Job 6631fcd8-01a3-4756-9cd0-1b3806cd37d0\n",
      "Job 10: Job 66d1ece4-feed-4229-8efe-bdb426faffee\n",
      "Job 11: Job 7e0cbfa0-f15a-4b84-8e5b-6b97d0bc3891\n",
      "Job 12: Job 8409c5ca-8845-4c59-8383-0420753aa918\n",
      "Job 13: Job 9af9d723-194a-4528-80b4-7eb1fcf14134\n",
      "Job 14: Job b4659acb-59f7-4d88-b725-6e2f06c6f452\n",
      "Job 15: Job b60b47ab-7ca1-400b-9a0d-849e7d34b613\n",
      "Job 16: Job b9769489-578f-4ea0-bb68-08df86c52fc6\n",
      "Job 17: Job be5c9781-aa28-4d19-90c3-f276dbfa77d7\n",
      "Job 18: Job c0c5cd10-a95f-4f7a-8c7a-b7871f1ea8d4\n",
      "Job 19: Job d19129e5-a8ea-4da4-ac56-fc79f2572d8b\n",
      "Job 20: Job e4bd89b5-4ce0-4221-bbe2-246de24baafd\n",
      "Job 21: Job fe86cf12-2165-491b-a58c-1097c301b81c\n",
      "===================\n"
     ]
    }
   ],
   "source": [
    "\n",
    "clientInformation = getAllInfoAboutClient(db, exampleClient)\n",
    "\n",
    "print(\"===================\")\n",
    "print(\"TurboBatch Information for Client: \" + exampleClient)\n",
    "\n",
    "\n",
    "for i, job_id in enumerate(clientInformation[\"Job_IDs\"], start=1):\n",
    "    print(f\"Job {i}: {job_id}\")\n",
    "    \n",
    "# print(type(exampleClient))  # This will tell you whether it's a string, dict, list, etc.\n",
    "# print(clientInformation)\n",
    "print(\"===================\")\n"
   ]
  },
  {
   "cell_type": "markdown",
   "metadata": {},
   "source": [
    "### Job Information"
   ]
  },
  {
   "cell_type": "code",
   "execution_count": 8,
   "metadata": {},
   "outputs": [
    {
     "name": "stdout",
     "output_type": "stream",
     "text": [
      "===================\n",
      "TurboBatch Information for client test job: Job 9af9d723-194a-4528-80b4-7eb1fcf14134\n",
      "\n",
      "Start Time:  Saturday, December 07, 2024 at 08:36:29 PM EST\n",
      "Model:       gpt-3.5-turbo\n",
      "===================\n"
     ]
    }
   ],
   "source": [
    "jobInformation = getAllInfoAboutJob(db, exampleClient, exampleJob)\n",
    "\n",
    "print(\"===================\")\n",
    "print(\"TurboBatch Information for client \" + exampleClient + \" job: \" + exampleJob)\n",
    "print()\n",
    "print(\"Start Time: \",jobInformation[\"Start_Time\"])\n",
    "print(\"Model:      \", jobInformation[\"Model\"])\n",
    "\n",
    "print(\"===================\")"
   ]
  },
  {
   "cell_type": "markdown",
   "metadata": {},
   "source": [
    "### Job Statistics\n",
    "\n",
    "This command will show all of the statistics for a given job\n"
   ]
  },
  {
   "cell_type": "code",
   "execution_count": 9,
   "metadata": {},
   "outputs": [
    {
     "name": "stdout",
     "output_type": "stream",
     "text": [
      "===================\n",
      "TurboBatch Statistics for job: Job 9af9d723-194a-4528-80b4-7eb1fcf14134\n",
      "\n",
      "Avg Time:             9.717318773269653\n",
      "\n",
      "Avg Time Before LLM:  5.873467048009236\n",
      "Avg Time In LLM:      1.6765425205230713\n",
      "Avg Time After LLM:   2.1673092047373452\n",
      "===================\n"
     ]
    }
   ],
   "source": [
    "jobStatistics = getJobStatistics(db, exampleClient, exampleJob)\n",
    "\n",
    "\n",
    "print(\"===================\")\n",
    "print(\"TurboBatch Statistics for job: \" + exampleJob)\n",
    "print()\n",
    "print(\"Avg Time:            \", jobStatistics [\"average_time\"])\n",
    "print()\n",
    "print(\"Avg Time Before LLM: \", jobStatistics [\"average_time_before_llm\"])\n",
    "print(\"Avg Time In LLM:     \", jobStatistics [\"average_time_in_llm\"])\n",
    "print(\"Avg Time After LLM:  \", jobStatistics [\"average_time_after_llm\"]) \n",
    "print(\"===================\")"
   ]
  },
  {
   "cell_type": "markdown",
   "metadata": {},
   "source": [
    "### Produce Invoice \n",
    "\n",
    "This command will produce an invoice and an Operator can give to a Trader"
   ]
  },
  {
   "cell_type": "code",
   "execution_count": 10,
   "metadata": {},
   "outputs": [
    {
     "name": "stdout",
     "output_type": "stream",
     "text": [
      "===================\n",
      "TurboBatch Invoice for job: Job 9af9d723-194a-4528-80b4-7eb1fcf14134\n",
      "\n",
      "Client ID:          test\n",
      "Job ID:             9af9d723-194a-4528-80b4-7eb1fcf14134\n",
      "LLM Cost:           $ 0.004464500000000001\n",
      "Start Date:         Saturday, December 07, 2024 at 08:36:29 PM EST\n",
      "Total Time (mins):  14.007\n",
      "===================\n"
     ]
    }
   ],
   "source": [
    "invoiceInformation = produceInvoice(db, exampleClient, exampleJob)\n",
    "\n",
    "\n",
    "print(\"===================\")\n",
    "print(\"TurboBatch Invoice for job: \" + exampleJob)\n",
    "print()\n",
    "print(\"Client ID:         \", invoiceInformation [\"Client_ID\"])\n",
    "print(\"Job ID:            \", invoiceInformation [\"Job_ID\"])\n",
    "print(\"LLM Cost:           $\", invoiceInformation[\"total_llm_cost\"])\n",
    "print(\"Start Date:        \", invoiceInformation [\"Start_Time\"]) \n",
    "print(\"Total Time (mins): \", invoiceInformation [\"total_time\"])\n",
    "\n",
    "print(\"===================\")\n"
   ]
  },
  {
   "cell_type": "markdown",
   "metadata": {},
   "source": [
    "---"
   ]
  },
  {
   "cell_type": "markdown",
   "metadata": {},
   "source": [
    "## **Errors**"
   ]
  },
  {
   "cell_type": "markdown",
   "metadata": {},
   "source": [
    "### Error Information\n",
    "This command will show all of the rows that had errors for a given Job\n"
   ]
  },
  {
   "cell_type": "code",
   "execution_count": null,
   "metadata": {},
   "outputs": [],
   "source": [
    "errorRows = getErrorInformation(db, exampleClient, exampleJob)\n",
    "\n",
    "\n",
    "print(\"===================\")\n",
    "print(\"TurboBatch Error Rows for job: \" + exampleJob)\n",
    "print()\n",
    "i = 0\n",
    "for rows in errorRows:\n",
    "    print(rows)\n",
    "print()\n",
    "print(\"===================\")"
   ]
  },
  {
   "cell_type": "markdown",
   "metadata": {},
   "source": [
    "### Error Rows\n",
    "This command will show more information about each of the errors\n"
   ]
  },
  {
   "cell_type": "code",
   "execution_count": null,
   "metadata": {},
   "outputs": [],
   "source": [
    "errorRows = getErrorRows(db, exampleClient, exampleJob)\n",
    "\n",
    "\n",
    "print(\"===================\")\n",
    "print(\"TurboBatch Error Rows for job: \" + exampleJob)\n",
    "print()\n",
    "i = 0\n",
    "for rows in errorRows:\n",
    "    print(\"ERROR in row: \" + str(rows))\n",
    "print(\"===================\")\n"
   ]
  },
  {
   "cell_type": "markdown",
   "metadata": {},
   "source": [
    "## **Performance**\n"
   ]
  },
  {
   "cell_type": "markdown",
   "metadata": {},
   "source": [
    "### ... Coming Soon"
   ]
  }
 ],
 "metadata": {
  "kernelspec": {
   "display_name": "base",
   "language": "python",
   "name": "python3"
  },
  "language_info": {
   "codemirror_mode": {
    "name": "ipython",
    "version": 3
   },
   "file_extension": ".py",
   "mimetype": "text/x-python",
   "name": "python",
   "nbconvert_exporter": "python",
   "pygments_lexer": "ipython3",
   "version": "3.9.7"
  },
  "orig_nbformat": 4
 },
 "nbformat": 4,
 "nbformat_minor": 2
}
