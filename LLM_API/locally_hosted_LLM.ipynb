{
 "cells": [
  {
   "cell_type": "markdown",
   "metadata": {},
   "source": [
    "# Imports for running model locally:"
   ]
  },
  {
   "cell_type": "code",
   "execution_count": 48,
   "metadata": {
    "id": "sZUmbv2OUzwN"
   },
   "outputs": [],
   "source": [
    "import os\n",
    "import subprocess\n",
    "from huggingface_hub import hf_hub_download\n",
    "from transformers import T5Tokenizer, AutoModelForSeq2SeqLM, pipeline\n",
    "from dotenv import load_dotenv"
   ]
  },
  {
   "cell_type": "markdown",
   "metadata": {},
   "source": [
    "Create your own Hugging Face account. From profile, just create a new key and put write down the key. For me, I put my key the .env file."
   ]
  },
  {
   "cell_type": "code",
   "execution_count": null,
   "metadata": {},
   "outputs": [],
   "source": [
    "load_dotenv()\n",
    "api_key = os.getenv('sasamori_hugging_face_api_key')"
   ]
  },
  {
   "cell_type": "code",
   "execution_count": 35,
   "metadata": {
    "id": "pvTGx74Kx1_d"
   },
   "outputs": [],
   "source": [
    "HUGGING_FACE_API_KEY = os.environ.get(api_key)"
   ]
  },
  {
   "cell_type": "code",
   "execution_count": 36,
   "metadata": {
    "id": "bMZOD3Jbx6Zz"
   },
   "outputs": [],
   "source": [
    "model_id = \"google/t5-3b-ssm-nq\"\n",
    "filenames = [\n",
    "    \"config.json\", \"generation_config.json\", \"pytorch_model.bin\",\n",
    "    \"special_tokens_map.json\", \"spiece.model\", \"tf_model.h5\", \"tokenizer_config.json\"\n",
    "]"
   ]
  },
  {
   "cell_type": "markdown",
   "metadata": {},
   "source": [
    "Running this next code will download hugging face models to your .cache directory on your local machine. For me, mine is:\n",
    "\n",
    "/Users/Andrew/.cache/huggingface/hub/models--google--t5-3b-ssm-nq/snapshots/0af6fd26fe569211ab0134617f6afc1c208c05b3/config.json\n",
    "\n",
    "/Users/Andrew/.cache/huggingface/hub/models--google--t5-3b-ssm-nq/snapshots/0af6fd26fe569211ab0134617f6afc1c208c05b3/generation_config.json\n",
    "\n",
    "And so forth..."
   ]
  },
  {
   "cell_type": "code",
   "execution_count": null,
   "metadata": {
    "colab": {
     "base_uri": "https://localhost:8080/",
     "height": 443,
     "referenced_widgets": [
      "612812f17f4449608b9e7e8e7fbd1bb6",
      "e0dc0b929c5a434a96595acb87291389",
      "f3829a3e62c448a8b1feac2572c0248f",
      "30cb1668535d49b0a02ddb511aea61ae",
      "69b96dfbbed04727bc6690ffc1137548",
      "91843f18131f4e549ca1f1b5efa18270",
      "53e97fa64c9b4bc782b60b71e00789f2",
      "0f676a53f37941748c9b2a58c53a12ca",
      "836fc048c8fa4f6e97557946ccf35fb5",
      "c1217bf51f1d48d7afccf85bd0d01cdc",
      "7cd705cafc984c8c9f8b2405cc569ada"
     ]
    },
    "id": "2LT7hEwmx7dk",
    "outputId": "e49d5702-351e-4e9b-bd0a-c5b6dc6b580f"
   },
   "outputs": [],
   "source": [
    "for filename in filenames:\n",
    "        downloaded_model_path = hf_hub_download(\n",
    "                    repo_id=model_id,\n",
    "                    filename=filename,\n",
    "                    token=HUGGING_FACE_API_KEY,\n",
    "                #     cache_dir=custom_download_path  # Next time, specify the cache directory\n",
    "        )\n",
    "        print(downloaded_model_path)"
   ]
  },
  {
   "cell_type": "markdown",
   "metadata": {
    "id": "oH-CXKxNx9Y2"
   },
   "source": [
    "# Running the LLM"
   ]
  },
  {
   "cell_type": "markdown",
   "metadata": {},
   "source": [
    "You don't actually need to run this code, it's just to show that everything is local, and you don't need wifi to run the model"
   ]
  },
  {
   "cell_type": "code",
   "execution_count": null,
   "metadata": {
    "id": "9YG8HUSyx-0S"
   },
   "outputs": [],
   "source": [
    "def check_connectivity():\n",
    "    try:\n",
    "        # Ping Google's DNS server to check connectivity\n",
    "        output = subprocess.check_output(\"ping -c 1 8.8.8.8\", shell=True)\n",
    "        return \"Connected\"\n",
    "    except subprocess.CalledProcessError:\n",
    "        return \"Not Connected\"\n",
    "\n",
    "def toggle_wifi(state):\n",
    "    if state == \"on\":\n",
    "        os.system(\"networksetup -setairportpower airport on\")  # For macOS\n",
    "    elif state == \"off\":\n",
    "        os.system(\"networksetup -setairportpower airport off\")  # For macOS\n",
    "\n",
    "# print(check_connectivity())\n",
    "# toggle_wifi(\"off\")\n",
    "# time.sleep(0.5)\n",
    "print(check_connectivity())\n",
    "# toggle_wifi(\"on\")\n",
    "# print(check_connectivity())"
   ]
  },
  {
   "cell_type": "code",
   "execution_count": 38,
   "metadata": {
    "id": "XdkGoSQQyBp0"
   },
   "outputs": [],
   "source": [
    "tokenizer = T5Tokenizer.from_pretrained(model_id, legacy=False, clean_up_tokenization_spaces=True)\n",
    "model = AutoModelForSeq2SeqLM.from_pretrained(model_id)\n",
    "\n",
    "text2text_pipeline = pipeline(\"text2text-generation\", model=model, tokenizer=tokenizer, device=-1, max_length=1000)"
   ]
  },
  {
   "cell_type": "markdown",
   "metadata": {},
   "source": [
    "Sample text2text output"
   ]
  },
  {
   "cell_type": "code",
   "execution_count": null,
   "metadata": {
    "id": "40rtg6IdyESF"
   },
   "outputs": [],
   "source": [
    "output = text2text_pipeline(\"\"\"\" My father's home country's flag includes a white background with a red dot in the middle.\n",
    "The most famous from this country includes sushi, ramen, and sashimi. What country do you think this is?\n",
    "\"\"\")\n",
    "print(output)"
   ]
  },
  {
   "cell_type": "markdown",
   "metadata": {},
   "source": [
    "# Flask API integration"
   ]
  },
  {
   "cell_type": "code",
   "execution_count": 28,
   "metadata": {},
   "outputs": [],
   "source": [
    "from flask import Flask, render_template_string, request, jsonify\n",
    "from werkzeug.serving import make_server\n",
    "import threading\n",
    "import time\n",
    "app = Flask(__name__)"
   ]
  },
  {
   "cell_type": "code",
   "execution_count": null,
   "metadata": {},
   "outputs": [],
   "source": [
    "# Define the route for the form\n",
    "@app.route('/')\n",
    "def index():\n",
    "    return render_template_string('''\n",
    "        <html>\n",
    "            <head><title>Submit a Prompt</title></head>\n",
    "            <body>\n",
    "                <h1>Enter a Prompt</h1>\n",
    "                <form action=\"/generate\" method=\"post\">\n",
    "                    <textarea name=\"prompt\" rows=\"4\" cols=\"50\"></textarea><br>\n",
    "                    <input type=\"submit\" value=\"Submit\">\n",
    "                </form>\n",
    "            </body>\n",
    "        </html>\n",
    "    ''')\n",
    "\n",
    "# Define the API route to process the input\n",
    "@app.route('/generate', methods=['POST'])\n",
    "def generate():\n",
    "    input_text = request.form.get(\"prompt\", \"\")\n",
    "    if not input_text:\n",
    "        return \"No prompt provided\", 400\n",
    "    try:\n",
    "        output = text2text_pipeline(input_text)\n",
    "        return render_template_string('''\n",
    "            <html>\n",
    "                <head><title>LLM Response</title></head>\n",
    "                <body>\n",
    "                    <h1>Response:</h1>\n",
    "                    <p>{{output}}</p>\n",
    "                    <a href=\"/\">Submit another prompt</a>\n",
    "                </body>\n",
    "            </html>\n",
    "        ''', output=output[0]['generated_text'])\n",
    "    except Exception as e:\n",
    "        return jsonify({\"error\": str(e)}), 500\n",
    "\n",
    "# Helper class to run Flask in a thread\n",
    "class FlaskThread(threading.Thread):\n",
    "    def __init__(self, app):\n",
    "        threading.Thread.__init__(self)\n",
    "        self.server = make_server('127.0.0.1', 5002, app)\n",
    "        self.ctx = app.app_context()\n",
    "        self.ctx.push()\n",
    "\n",
    "    def run(self):\n",
    "        print(\"Starting Flask server...\")\n",
    "        self.server.serve_forever()\n",
    "\n",
    "    def shutdown(self):\n",
    "        self.server.shutdown()"
   ]
  },
  {
   "cell_type": "markdown",
   "metadata": {},
   "source": [
    "I defined the local site as:\n",
    "http://127.0.0.1:5002/"
   ]
  },
  {
   "cell_type": "code",
   "execution_count": null,
   "metadata": {},
   "outputs": [],
   "source": [
    "flask_thread = FlaskThread(app)\n",
    "flask_thread.start()"
   ]
  },
  {
   "cell_type": "code",
   "execution_count": 41,
   "metadata": {},
   "outputs": [],
   "source": [
    "\n",
    "# Simulate running the server for a while, then shutting down\n",
    "try:\n",
    "    time.sleep(10)  # Keep the server running for 10 seconds\n",
    "finally:\n",
    "    flask_thread.shutdown()"
   ]
  }
 ],
 "metadata": {
  "colab": {
   "provenance": []
  },
  "kernelspec": {
   "display_name": "Python 3 (ipykernel)",
   "language": "python",
   "name": "python3"
  },
  "language_info": {
   "codemirror_mode": {
    "name": "ipython",
    "version": 3
   },
   "file_extension": ".py",
   "mimetype": "text/x-python",
   "name": "python",
   "nbconvert_exporter": "python",
   "pygments_lexer": "ipython3",
   "version": "3.12.6"
  },
  "widgets": {
   "application/vnd.jupyter.widget-state+json": {
    "0f676a53f37941748c9b2a58c53a12ca": {
     "model_module": "@jupyter-widgets/base",
     "model_module_version": "1.2.0",
     "model_name": "LayoutModel",
     "state": {
      "_model_module": "@jupyter-widgets/base",
      "_model_module_version": "1.2.0",
      "_model_name": "LayoutModel",
      "_view_count": null,
      "_view_module": "@jupyter-widgets/base",
      "_view_module_version": "1.2.0",
      "_view_name": "LayoutView",
      "align_content": null,
      "align_items": null,
      "align_self": null,
      "border": null,
      "bottom": null,
      "display": null,
      "flex": null,
      "flex_flow": null,
      "grid_area": null,
      "grid_auto_columns": null,
      "grid_auto_flow": null,
      "grid_auto_rows": null,
      "grid_column": null,
      "grid_gap": null,
      "grid_row": null,
      "grid_template_areas": null,
      "grid_template_columns": null,
      "grid_template_rows": null,
      "height": null,
      "justify_content": null,
      "justify_items": null,
      "left": null,
      "margin": null,
      "max_height": null,
      "max_width": null,
      "min_height": null,
      "min_width": null,
      "object_fit": null,
      "object_position": null,
      "order": null,
      "overflow": null,
      "overflow_x": null,
      "overflow_y": null,
      "padding": null,
      "right": null,
      "top": null,
      "visibility": null,
      "width": null
     }
    },
    "30cb1668535d49b0a02ddb511aea61ae": {
     "model_module": "@jupyter-widgets/controls",
     "model_module_version": "1.5.0",
     "model_name": "HTMLModel",
     "state": {
      "_dom_classes": [],
      "_model_module": "@jupyter-widgets/controls",
      "_model_module_version": "1.5.0",
      "_model_name": "HTMLModel",
      "_view_count": null,
      "_view_module": "@jupyter-widgets/controls",
      "_view_module_version": "1.5.0",
      "_view_name": "HTMLView",
      "description": "",
      "description_tooltip": null,
      "layout": "IPY_MODEL_c1217bf51f1d48d7afccf85bd0d01cdc",
      "placeholder": "​",
      "style": "IPY_MODEL_7cd705cafc984c8c9f8b2405cc569ada",
      "value": " 7.19G/11.4G [02:41&lt;01:17, 54.7MB/s]"
     }
    },
    "53e97fa64c9b4bc782b60b71e00789f2": {
     "model_module": "@jupyter-widgets/controls",
     "model_module_version": "1.5.0",
     "model_name": "DescriptionStyleModel",
     "state": {
      "_model_module": "@jupyter-widgets/controls",
      "_model_module_version": "1.5.0",
      "_model_name": "DescriptionStyleModel",
      "_view_count": null,
      "_view_module": "@jupyter-widgets/base",
      "_view_module_version": "1.2.0",
      "_view_name": "StyleView",
      "description_width": ""
     }
    },
    "612812f17f4449608b9e7e8e7fbd1bb6": {
     "model_module": "@jupyter-widgets/controls",
     "model_module_version": "1.5.0",
     "model_name": "HBoxModel",
     "state": {
      "_dom_classes": [],
      "_model_module": "@jupyter-widgets/controls",
      "_model_module_version": "1.5.0",
      "_model_name": "HBoxModel",
      "_view_count": null,
      "_view_module": "@jupyter-widgets/controls",
      "_view_module_version": "1.5.0",
      "_view_name": "HBoxView",
      "box_style": "",
      "children": [
       "IPY_MODEL_e0dc0b929c5a434a96595acb87291389",
       "IPY_MODEL_f3829a3e62c448a8b1feac2572c0248f",
       "IPY_MODEL_30cb1668535d49b0a02ddb511aea61ae"
      ],
      "layout": "IPY_MODEL_69b96dfbbed04727bc6690ffc1137548"
     }
    },
    "69b96dfbbed04727bc6690ffc1137548": {
     "model_module": "@jupyter-widgets/base",
     "model_module_version": "1.2.0",
     "model_name": "LayoutModel",
     "state": {
      "_model_module": "@jupyter-widgets/base",
      "_model_module_version": "1.2.0",
      "_model_name": "LayoutModel",
      "_view_count": null,
      "_view_module": "@jupyter-widgets/base",
      "_view_module_version": "1.2.0",
      "_view_name": "LayoutView",
      "align_content": null,
      "align_items": null,
      "align_self": null,
      "border": null,
      "bottom": null,
      "display": null,
      "flex": null,
      "flex_flow": null,
      "grid_area": null,
      "grid_auto_columns": null,
      "grid_auto_flow": null,
      "grid_auto_rows": null,
      "grid_column": null,
      "grid_gap": null,
      "grid_row": null,
      "grid_template_areas": null,
      "grid_template_columns": null,
      "grid_template_rows": null,
      "height": null,
      "justify_content": null,
      "justify_items": null,
      "left": null,
      "margin": null,
      "max_height": null,
      "max_width": null,
      "min_height": null,
      "min_width": null,
      "object_fit": null,
      "object_position": null,
      "order": null,
      "overflow": null,
      "overflow_x": null,
      "overflow_y": null,
      "padding": null,
      "right": null,
      "top": null,
      "visibility": null,
      "width": null
     }
    },
    "7cd705cafc984c8c9f8b2405cc569ada": {
     "model_module": "@jupyter-widgets/controls",
     "model_module_version": "1.5.0",
     "model_name": "DescriptionStyleModel",
     "state": {
      "_model_module": "@jupyter-widgets/controls",
      "_model_module_version": "1.5.0",
      "_model_name": "DescriptionStyleModel",
      "_view_count": null,
      "_view_module": "@jupyter-widgets/base",
      "_view_module_version": "1.2.0",
      "_view_name": "StyleView",
      "description_width": ""
     }
    },
    "836fc048c8fa4f6e97557946ccf35fb5": {
     "model_module": "@jupyter-widgets/controls",
     "model_module_version": "1.5.0",
     "model_name": "ProgressStyleModel",
     "state": {
      "_model_module": "@jupyter-widgets/controls",
      "_model_module_version": "1.5.0",
      "_model_name": "ProgressStyleModel",
      "_view_count": null,
      "_view_module": "@jupyter-widgets/base",
      "_view_module_version": "1.2.0",
      "_view_name": "StyleView",
      "bar_color": null,
      "description_width": ""
     }
    },
    "91843f18131f4e549ca1f1b5efa18270": {
     "model_module": "@jupyter-widgets/base",
     "model_module_version": "1.2.0",
     "model_name": "LayoutModel",
     "state": {
      "_model_module": "@jupyter-widgets/base",
      "_model_module_version": "1.2.0",
      "_model_name": "LayoutModel",
      "_view_count": null,
      "_view_module": "@jupyter-widgets/base",
      "_view_module_version": "1.2.0",
      "_view_name": "LayoutView",
      "align_content": null,
      "align_items": null,
      "align_self": null,
      "border": null,
      "bottom": null,
      "display": null,
      "flex": null,
      "flex_flow": null,
      "grid_area": null,
      "grid_auto_columns": null,
      "grid_auto_flow": null,
      "grid_auto_rows": null,
      "grid_column": null,
      "grid_gap": null,
      "grid_row": null,
      "grid_template_areas": null,
      "grid_template_columns": null,
      "grid_template_rows": null,
      "height": null,
      "justify_content": null,
      "justify_items": null,
      "left": null,
      "margin": null,
      "max_height": null,
      "max_width": null,
      "min_height": null,
      "min_width": null,
      "object_fit": null,
      "object_position": null,
      "order": null,
      "overflow": null,
      "overflow_x": null,
      "overflow_y": null,
      "padding": null,
      "right": null,
      "top": null,
      "visibility": null,
      "width": null
     }
    },
    "c1217bf51f1d48d7afccf85bd0d01cdc": {
     "model_module": "@jupyter-widgets/base",
     "model_module_version": "1.2.0",
     "model_name": "LayoutModel",
     "state": {
      "_model_module": "@jupyter-widgets/base",
      "_model_module_version": "1.2.0",
      "_model_name": "LayoutModel",
      "_view_count": null,
      "_view_module": "@jupyter-widgets/base",
      "_view_module_version": "1.2.0",
      "_view_name": "LayoutView",
      "align_content": null,
      "align_items": null,
      "align_self": null,
      "border": null,
      "bottom": null,
      "display": null,
      "flex": null,
      "flex_flow": null,
      "grid_area": null,
      "grid_auto_columns": null,
      "grid_auto_flow": null,
      "grid_auto_rows": null,
      "grid_column": null,
      "grid_gap": null,
      "grid_row": null,
      "grid_template_areas": null,
      "grid_template_columns": null,
      "grid_template_rows": null,
      "height": null,
      "justify_content": null,
      "justify_items": null,
      "left": null,
      "margin": null,
      "max_height": null,
      "max_width": null,
      "min_height": null,
      "min_width": null,
      "object_fit": null,
      "object_position": null,
      "order": null,
      "overflow": null,
      "overflow_x": null,
      "overflow_y": null,
      "padding": null,
      "right": null,
      "top": null,
      "visibility": null,
      "width": null
     }
    },
    "e0dc0b929c5a434a96595acb87291389": {
     "model_module": "@jupyter-widgets/controls",
     "model_module_version": "1.5.0",
     "model_name": "HTMLModel",
     "state": {
      "_dom_classes": [],
      "_model_module": "@jupyter-widgets/controls",
      "_model_module_version": "1.5.0",
      "_model_name": "HTMLModel",
      "_view_count": null,
      "_view_module": "@jupyter-widgets/controls",
      "_view_module_version": "1.5.0",
      "_view_name": "HTMLView",
      "description": "",
      "description_tooltip": null,
      "layout": "IPY_MODEL_91843f18131f4e549ca1f1b5efa18270",
      "placeholder": "​",
      "style": "IPY_MODEL_53e97fa64c9b4bc782b60b71e00789f2",
      "value": "pytorch_model.bin:  63%"
     }
    },
    "f3829a3e62c448a8b1feac2572c0248f": {
     "model_module": "@jupyter-widgets/controls",
     "model_module_version": "1.5.0",
     "model_name": "FloatProgressModel",
     "state": {
      "_dom_classes": [],
      "_model_module": "@jupyter-widgets/controls",
      "_model_module_version": "1.5.0",
      "_model_name": "FloatProgressModel",
      "_view_count": null,
      "_view_module": "@jupyter-widgets/controls",
      "_view_module_version": "1.5.0",
      "_view_name": "ProgressView",
      "bar_style": "danger",
      "description": "",
      "description_tooltip": null,
      "layout": "IPY_MODEL_0f676a53f37941748c9b2a58c53a12ca",
      "max": 11406629522,
      "min": 0,
      "orientation": "horizontal",
      "style": "IPY_MODEL_836fc048c8fa4f6e97557946ccf35fb5",
      "value": 7193231360
     }
    }
   }
  }
 },
 "nbformat": 4,
 "nbformat_minor": 4
}
