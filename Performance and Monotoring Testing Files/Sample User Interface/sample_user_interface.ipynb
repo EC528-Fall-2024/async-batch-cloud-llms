{
 "cells": [
  {
   "cell_type": "markdown",
   "metadata": {},
   "source": [
    "# Sample Front End"
   ]
  },
  {
   "cell_type": "markdown",
   "metadata": {},
   "source": [
    "### Get Progress"
   ]
  },
  {
   "cell_type": "code",
   "execution_count": null,
   "metadata": {},
   "outputs": [],
   "source": [
    "# This function will query the firestore database and will get the progress\n",
    "\n"
   ]
  },
  {
   "cell_type": "markdown",
   "metadata": {},
   "source": [
    "### Button Example"
   ]
  },
  {
   "cell_type": "code",
   "execution_count": 6,
   "metadata": {},
   "outputs": [
    {
     "data": {
      "application/vnd.jupyter.widget-view+json": {
       "model_id": "8a9ca71e13084cf4a76236f07a7030e8",
       "version_major": 2,
       "version_minor": 0
      },
      "text/plain": [
       "Button(description='Start Batch LLM Job', style=ButtonStyle())"
      ]
     },
     "metadata": {},
     "output_type": "display_data"
    }
   ],
   "source": [
    " import ipywidgets as widgets\n",
    "from IPython.display import display\n",
    "\n",
    "# Create the button\n",
    "button = widgets.Button(description=\"Start Batch LLM Job\")\n",
    "\n",
    "# Define the action on button click\n",
    "def on_button_click(b):\n",
    "    print(\"Button was clicked!\")\n",
    "\n",
    "# Bind the action to the button\n",
    "button.on_click(on_button_click)\n",
    "\n",
    "# Display the button\n",
    "display(button)"
   ]
  }
 ],
 "metadata": {
  "kernelspec": {
   "display_name": "base",
   "language": "python",
   "name": "python3"
  },
  "language_info": {
   "codemirror_mode": {
    "name": "ipython",
    "version": 3
   },
   "file_extension": ".py",
   "mimetype": "text/x-python",
   "name": "python",
   "nbconvert_exporter": "python",
   "pygments_lexer": "ipython3",
   "version": "3.9.7"
  },
  "orig_nbformat": 4
 },
 "nbformat": 4,
 "nbformat_minor": 2
}
