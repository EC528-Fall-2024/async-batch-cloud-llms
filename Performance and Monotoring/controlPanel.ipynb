{
 "cells": [
  {
   "cell_type": "markdown",
   "metadata": {},
   "source": [
    "# Pipeline Mission Control Panel"
   ]
  },
  {
   "cell_type": "code",
   "execution_count": 1,
   "metadata": {},
   "outputs": [],
   "source": [
    "import requests\n",
    "# Container URL\n",
    "\n",
    "# VM URL\n",
    "base_url = \"http://34.27.114.71:8080\"\n",
    "\n",
    "# Local URL\n",
    "# base_url = \"http://localhost:8089\"\n"
   ]
  },
  {
   "cell_type": "markdown",
   "metadata": {},
   "source": [
    "### Setters\n"
   ]
  },
  {
   "cell_type": "code",
   "execution_count": 2,
   "metadata": {},
   "outputs": [
    {
     "name": "stdout",
     "output_type": "stream",
     "text": [
      "Success\n"
     ]
    }
   ],
   "source": [
    "def resetSystem(Job_ID):\n",
    "    \n",
    "    json_body = {\"Job_ID\": Job_ID}\n",
    "    headers = {\"Content-Type\": \"application/json\"}\n",
    "\n",
    "    response = requests.get(\n",
    "        f\"{base_url}/resetSystem\",\n",
    "        json=json_body,  # Add JSON body\n",
    "        headers=headers   # Add headers\n",
    "    )\n",
    "    \n",
    "    if response.status_code == 200:\n",
    "        print(\"Success\") # remove for implemetation\n",
    "    \n",
    "# function call\n",
    "resetSystem(1)"
   ]
  },
  {
   "cell_type": "code",
   "execution_count": 23,
   "metadata": {},
   "outputs": [
    {
     "name": "stdout",
     "output_type": "stream",
     "text": [
      "Success\n"
     ]
    }
   ],
   "source": [
    "def setTotalCount(Job_ID):\n",
    "    \n",
    "    json_body = {\"Job_ID\": Job_ID, \"total_count\": 13}\n",
    "    headers = {\"Content-Type\": \"application/json\"}\n",
    "\n",
    "    response = requests.get(\n",
    "        f\"{base_url}/setTotalCount\",\n",
    "        json=json_body,  # Add JSON body\n",
    "        headers=headers   # Add headers\n",
    "    )\n",
    "    \n",
    "    if response.status_code == 200:\n",
    "        print(\"Success\") # remove for implemetation\n",
    "\n",
    "# function call\n",
    "setTotalCount(1)"
   ]
  },
  {
   "cell_type": "code",
   "execution_count": 27,
   "metadata": {},
   "outputs": [
    {
     "name": "stdout",
     "output_type": "stream",
     "text": [
      "Success\n"
     ]
    }
   ],
   "source": [
    "def setBatchProcessor(Job_ID):\n",
    "    \n",
    "    json_body = {\"Job_ID\": 1, \"batch_processor_count\": 13}\n",
    "    headers = {\"Content-Type\": \"application/json\"}\n",
    "\n",
    "    response = requests.get(\n",
    "        f\"{base_url}/setBatchProcessorCount\",\n",
    "        json=json_body,  # Add JSON body\n",
    "        headers=headers   # Add headers\n",
    "    )\n",
    "    \n",
    "    if response.status_code == 200:\n",
    "        print(\"Success\") # remove for implemetation\n",
    "\n",
    "setBatchProcessor(1)"
   ]
  },
  {
   "cell_type": "code",
   "execution_count": 2,
   "metadata": {},
   "outputs": [
    {
     "name": "stdout",
     "output_type": "stream",
     "text": [
      "Success\n"
     ]
    }
   ],
   "source": [
    "def setStats(Job_ID):\n",
    "    \n",
    "    json_body = {\"Job_ID\": Job_ID}\n",
    "    headers = {\"Content-Type\": \"application/json\"}\n",
    "\n",
    "    response = requests.get(\n",
    "        f\"{base_url}/setStats\",\n",
    "        json=json_body,  # Add JSON body\n",
    "        headers=headers   # Add headers\n",
    "    )\n",
    "    \n",
    "    if response.status_code == 200:\n",
    "        print(\"Success\") # remove for implemetation\n",
    "    \n",
    "# function call\n",
    "setStats(1)"
   ]
  },
  {
   "cell_type": "markdown",
   "metadata": {},
   "source": [
    "### Decrementers"
   ]
  },
  {
   "cell_type": "code",
   "execution_count": 20,
   "metadata": {},
   "outputs": [
    {
     "name": "stdout",
     "output_type": "stream",
     "text": [
      "Success\n"
     ]
    },
    {
     "data": {
      "text/plain": [
       "'Error'"
      ]
     },
     "execution_count": 20,
     "metadata": {},
     "output_type": "execute_result"
    }
   ],
   "source": [
    "def decrementRateLimiter(Job_ID):\n",
    "    \n",
    "    json_body = {\"Job_ID\": Job_ID,\"Microservice\": \"rate_limiter\"}\n",
    "    headers = {\"Content-Type\": \"application/json\"}\n",
    "\n",
    "    response = requests.get(\n",
    "        f\"{base_url}/decrementService\",\n",
    "        json=json_body,  # Add JSON body\n",
    "        headers=headers   # Add headers\n",
    "    )\n",
    "    \n",
    "    if response.status_code == 200:\n",
    "        print(\"Success\") # remove for implemetation\n",
    "\n",
    "# function call\n",
    "decrementRateLimiter(1)"
   ]
  },
  {
   "cell_type": "code",
   "execution_count": 28,
   "metadata": {},
   "outputs": [
    {
     "name": "stdout",
     "output_type": "stream",
     "text": [
      "Success\n"
     ]
    }
   ],
   "source": [
    "\n",
    "def decrementBatchProcessor(Job_ID):\n",
    "    \n",
    "    json_body = {\"Job_ID\": Job_ID,\"Microservice\": \"batch_processor\"}\n",
    "    headers = {\"Content-Type\": \"application/json\"}\n",
    "\n",
    "    response = requests.get(\n",
    "        f\"{base_url}/decrementService\",\n",
    "        json=json_body,  # Add JSON body\n",
    "        headers=headers   # Add headers\n",
    "    )\n",
    "    \n",
    "    if response.status_code == 200:\n",
    "        print(\"Success\") # remove for implemetation\n",
    "\n",
    "decrementBatchProcessor(1)"
   ]
  },
  {
   "cell_type": "markdown",
   "metadata": {},
   "source": [
    "### Getters"
   ]
  },
  {
   "cell_type": "code",
   "execution_count": 12,
   "metadata": {},
   "outputs": [
    {
     "name": "stdout",
     "output_type": "stream",
     "text": [
      "Success\n",
      "{'returnData': {'average_time': 4.254923076923077, 'end_time': 'Tue, 19 Nov 2024 08:23:02 GMT', 'start_time': 'Tue, 19 Nov 2024 08:22:06 GMT', 'total_time': 55.314}}\n",
      "4.254923076923077\n"
     ]
    }
   ],
   "source": [
    "def getStats(Job_ID):\n",
    "    \n",
    "    json_body = {\"Job_ID\": Job_ID}\n",
    "    headers = {\"Content-Type\": \"application/json\"}\n",
    "\n",
    "    response = requests.get(\n",
    "        f\"{base_url}/getStats\",\n",
    "        json=json_body,  # Add JSON body\n",
    "        headers=headers   # Add headers\n",
    "    )\n",
    "    \n",
    "    if response.status_code == 200:\n",
    "        print(\"Success\") # remove for implemetation\n",
    "        \n",
    "    print(response.json())\n",
    "    \n",
    "# function call\n",
    "getStats(1)"
   ]
  },
  {
   "cell_type": "markdown",
   "metadata": {},
   "source": [
    "### Incrementers"
   ]
  },
  {
   "cell_type": "code",
   "execution_count": 21,
   "metadata": {},
   "outputs": [
    {
     "name": "stdout",
     "output_type": "stream",
     "text": [
      "Success\n"
     ]
    },
    {
     "data": {
      "text/plain": [
       "'Error'"
      ]
     },
     "execution_count": 21,
     "metadata": {},
     "output_type": "execute_result"
    }
   ],
   "source": [
    "def incrementRateLimiter(Job_ID):\n",
    "    \n",
    "    json_body = {\"Job_ID\": Job_ID,\"Microservice\": \"rate_limiter\"}\n",
    "    headers = {\"Content-Type\": \"application/json\"}\n",
    "\n",
    "    response = requests.get(\n",
    "        f\"{base_url}/incrementService\",\n",
    "        json=json_body,  # Add JSON body\n",
    "        headers=headers   # Add headers\n",
    "    )\n",
    "    \n",
    "    if response.status_code == 200:\n",
    "        print(\"Success\") # remove for implemetation\n",
    "    \n",
    "# function call\n",
    "incrementRateLimiter(1)"
   ]
  }
 ],
 "metadata": {
  "kernelspec": {
   "display_name": "base",
   "language": "python",
   "name": "python3"
  },
  "language_info": {
   "codemirror_mode": {
    "name": "ipython",
    "version": 3
   },
   "file_extension": ".py",
   "mimetype": "text/x-python",
   "name": "python",
   "nbconvert_exporter": "python",
   "pygments_lexer": "ipython3",
   "version": "3.9.7"
  },
  "orig_nbformat": 4
 },
 "nbformat": 4,
 "nbformat_minor": 2
}
