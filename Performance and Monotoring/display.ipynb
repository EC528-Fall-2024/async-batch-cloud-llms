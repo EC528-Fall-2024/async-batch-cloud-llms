{
 "cells": [
  {
   "cell_type": "markdown",
   "metadata": {},
   "source": [
    "## Pipeline Progress Display"
   ]
  },
  {
   "cell_type": "markdown",
   "metadata": {},
   "source": [
    "### Live Dashboard"
   ]
  },
  {
   "cell_type": "code",
   "execution_count": 14,
   "metadata": {},
   "outputs": [
    {
     "data": {
      "text/html": [
       "\n",
       "            <h3>### Live Processor Counts ###</h3>\n",
       "            <p>Batch Processor Count: 0 / 0</p>\n",
       "            <p>Queue 1 Count: -13 / 0</p>\n",
       "            <p>Rate Limiter Count: 0 / 0</p>\n",
       "            <p>Queue 2 Count: -5 / 0</p>\n",
       "            <p>Reverse Batch Processor Count: 18 / 0</p>\n",
       "            "
      ],
      "text/plain": [
       "<IPython.core.display.HTML object>"
      ]
     },
     "metadata": {},
     "output_type": "display_data"
    },
    {
     "name": "stdout",
     "output_type": "stream",
     "text": [
      "Stopped updating.\n"
     ]
    }
   ],
   "source": [
    "runDashboard()"
   ]
  },
  {
   "cell_type": "markdown",
   "metadata": {},
   "source": [
    "### Summary Statistics"
   ]
  },
  {
   "cell_type": "code",
   "execution_count": 13,
   "metadata": {},
   "outputs": [
    {
     "data": {
      "text/html": [
       "\n",
       "    <h3>### Synthesis Performance Stats ###</h3>\n",
       "    <p><strong>Start Time:</strong>  0</p>\n",
       "    <p><strong>End Time:</strong>  0</p>\n",
       "    <p><strong>Total Time (seconds):</strong> 30.602</p>\n",
       "    <p><strong>Average Time (seconds):</strong> 2.354</p>    "
      ],
      "text/plain": [
       "<IPython.core.display.HTML object>"
      ]
     },
     "metadata": {},
     "output_type": "display_data"
    }
   ],
   "source": [
    "getStatsSummary()\n"
   ]
  },
  {
   "cell_type": "markdown",
   "metadata": {},
   "source": [
    "### Suporting Functions and Other"
   ]
  },
  {
   "cell_type": "code",
   "execution_count": 1,
   "metadata": {},
   "outputs": [],
   "source": [
    "def getStatsSummary():\n",
    "    \n",
    "    # Calculate Analysitcs including total time (finish - start) and average time\n",
    "    setStats(1)\n",
    "    \n",
    "    Job_ID = 1\n",
    "    jobData = getStats(Job_ID)\n",
    "    # print(jobData)\n",
    "    # print(\"## Job Performance ##\")\n",
    "    # print(\"Start Time: \" + jobData.get(\"start_time\"))\n",
    "    # print(\"End Time: \" + jobData.get(\"end_time\"))\n",
    "    # print(\"Total Time: \" + str(jobData.get(\"total_time\")))\n",
    "    # print(\"Average Time: \" + str(jobData.get(\"average_time\")))\n",
    "    \n",
    "    display_handle = display(\"\", display_id=True)\n",
    "               # Create the updated content\n",
    "    output_html = f\"\"\"\n",
    "    <h3>### Synthesis Performance Stats ###</h3>\n",
    "    <p><strong>Start Time:</strong>  { jobData.get(\"start_time\")}</p>\n",
    "    <p><strong>End Time:</strong>  {jobData.get(\"end_time\")}</p>\n",
    "    <p><strong>Total Time (seconds):</strong> {str(jobData.get(\"total_time\"))}</p>\n",
    "    <p><strong>Average Time (seconds):</strong> {f\"{jobData.get('average_time'):.3f}\"}</p>    \"\"\"\n",
    "\n",
    "    display_handle.update(HTML(output_html))\n",
    "\n",
    "\n",
    "def getStats(Job_ID):\n",
    "        \n",
    "    json_body = {\"Job_ID\": Job_ID}\n",
    "    headers = {\"Content-Type\": \"application/json\"}\n",
    "\n",
    "    response = requests.get(\n",
    "        f\"{base_url}/getStats\",\n",
    "        json=json_body,  # Add JSON body\n",
    "        headers=headers   # Add headers\n",
    "    )\n",
    "    \n",
    "    # if response.status_code == 200:\n",
    "    #     print(\"Success\") # remove for implemetation\n",
    "        \n",
    "    return response.json().get(\"returnData\")\n",
    "\n",
    "def setStats(Job_ID):\n",
    "    \n",
    "    json_body = {\"Job_ID\": Job_ID}\n",
    "    headers = {\"Content-Type\": \"application/json\"}\n",
    "\n",
    "    response = requests.get(\n",
    "        f\"{base_url}/setStats\",\n",
    "        json=json_body,  # Add JSON body\n",
    "        headers=headers   # Add headers\n",
    "    )\n",
    "    \n",
    "    if response.status_code == 200:\n",
    "        print(\"Success\") # remove for implemetation\n",
    "    \n",
    "            \n"
   ]
  },
  {
   "cell_type": "code",
   "execution_count": 3,
   "metadata": {},
   "outputs": [],
   "source": [
    "def runDashboard():\n",
    "    # Example loop to update progress bar and clear output\n",
    "    try:\n",
    "        # Create placeholders for dynamic content\n",
    "        display_handle = display(\"\", display_id=True)\n",
    "        \n",
    "        while True:\n",
    "            job_id = 1\n",
    "\n",
    "            # Get the latest values from each endpoint (dummy example here)\n",
    "            batch_processor_count = get_batch_processor_load(job_id)\n",
    "            rate_limiter_count = get_rate_limiter_load(job_id)\n",
    "            reverse_batch_processor_count = get_reverse_batch_processor_load(job_id)\n",
    "            total_rows = get_total_rows(job_id)\n",
    "            queue_1_count = get_queue_1_load(job_id)\n",
    "            queue_2_count = get_queue_2_load(job_id)\n",
    "\n",
    "            # Create the updated content\n",
    "            output_html = f\"\"\"\n",
    "            <h3>### Live Processor Counts ###</h3>\n",
    "            <p>Batch Processor Count: {batch_processor_count} / {total_rows}</p>\n",
    "            <p>Queue 1 Count: {queue_1_count} / {total_rows}</p>\n",
    "            <p>Rate Limiter Count: {rate_limiter_count} / {total_rows}</p>\n",
    "            <p>Queue 2 Count: {queue_2_count} / {total_rows}</p>\n",
    "            <p>Reverse Batch Processor Count: {reverse_batch_processor_count} / {total_rows}</p>\n",
    "            \"\"\"\n",
    "\n",
    "            # Update the display content without flashing\n",
    "            display_handle.update(HTML(output_html))\n",
    "\n",
    "            # Wait for half a second before updating\n",
    "            time.sleep(0.2)\n",
    "\n",
    "    except KeyboardInterrupt:\n",
    "        print(\"Stopped updating.\")"
   ]
  },
  {
   "cell_type": "code",
   "execution_count": 4,
   "metadata": {},
   "outputs": [],
   "source": [
    "#Extra Stuff...\n",
    "\n",
    "\n",
    "# Function to get batch processor count\n",
    "def get_batch_processor_load(Job_ID):\n",
    "\n",
    "    json_body = {\"Job_ID\": Job_ID,\"Microservice\": \"batch_processor\"}\n",
    "    headers = {\"Content-Type\": \"application/json\"}\n",
    "\n",
    "    response = requests.get(\n",
    "        f\"{base_url}/getCount\",\n",
    "        json=json_body,  # Add JSON body\n",
    "        headers=headers   # Add headers\n",
    "    )\n",
    "\n",
    "    if response.status_code == 200:\n",
    "        # print(response.json())\n",
    "        # print(getattr(response.json(), (\"batch_processor\")))\n",
    "        return response.json().get(\"batch_processor_count\")\n",
    "    return \"Error\"\n",
    "\n",
    "def get_total_rows(Job_ID):\n",
    "\n",
    "    json_body = {\"Job_ID\": Job_ID,\"Microservice\": \"total\"}\n",
    "    headers = {\"Content-Type\": \"application/json\"}\n",
    "\n",
    "    response = requests.get(\n",
    "        f\"{base_url}/getCount\",\n",
    "        json=json_body,  # Add JSON body\n",
    "        headers=headers   # Add headers\n",
    "    )\n",
    "\n",
    "    if response.status_code == 200:\n",
    "        return response.json().get(\"total_count\", \"N/A\")\n",
    "    return \"Error\"\n",
    "\n",
    "# Function to get rate limiter count\n",
    "def get_rate_limiter_load(Job_ID):\n",
    "\n",
    "    json_body = {\"Job_ID\": Job_ID,\"Microservice\": \"rate_limiter\"}\n",
    "    headers = {\"Content-Type\": \"application/json\"}\n",
    "\n",
    "    response = requests.get(\n",
    "        f\"{base_url}/getCount\",\n",
    "        json=json_body,  # Add JSON body\n",
    "        headers=headers   # Add headers\n",
    "    )\n",
    "\n",
    "    if response.status_code == 200:\n",
    "        return response.json().get(\"rate_limiter_count\", \"N/A\")\n",
    "    return \"Error\"\n",
    "\n",
    "# Function to get reverse batch processor count\n",
    "def get_reverse_batch_processor_load(Job_ID):\n",
    "\n",
    "    json_body = {\"Job_ID\": Job_ID,\"Microservice\": \"reverse_batch_processor\"}\n",
    "    headers = {\"Content-Type\": \"application/json\"}\n",
    "\n",
    "    response = requests.get(\n",
    "        f\"{base_url}/getCount\",\n",
    "        json=json_body,  # Add JSON body\n",
    "        headers=headers   # Add headers\n",
    "    )\n",
    "\n",
    "    if response.status_code == 200:\n",
    "        return response.json().get(\"reverse_batch_processor_count\", \"N/A\")\n",
    "    return \"Error\"\n",
    "\n",
    "# Function to get reverse batch processor count\n",
    "def get_queue_1_load(Job_ID):\n",
    "\n",
    "    json_body = {\"Job_ID\": Job_ID,\"Microservice\": \"queue_1\"}\n",
    "    headers = {\"Content-Type\": \"application/json\"}\n",
    "\n",
    "    response = requests.get(\n",
    "        f\"{base_url}/getCount\",\n",
    "        json=json_body,  # Add JSON body\n",
    "        headers=headers   # Add headers\n",
    "    )\n",
    "\n",
    "    if response.status_code == 200:\n",
    "        return response.json().get(\"queue_1_count\", \"N/A\")\n",
    "    return \"Error\"\n",
    "\n",
    "# Function to get reverse batch processor count\n",
    "def get_queue_2_load(Job_ID):\n",
    "\n",
    "    json_body = {\"Job_ID\": Job_ID,\"Microservice\": \"queue_2\"}\n",
    "    headers = {\"Content-Type\": \"application/json\"}\n",
    "\n",
    "    response = requests.get(\n",
    "        f\"{base_url}/getCount\",\n",
    "        json=json_body,  # Add JSON body\n",
    "        headers=headers   # Add headers\n",
    "    )\n",
    "\n",
    "    if response.status_code == 200:\n",
    "        return response.json().get(\"queue_2_count\", \"N/A\")\n",
    "    return \"Error\"\n",
    "\n"
   ]
  },
  {
   "cell_type": "code",
   "execution_count": 5,
   "metadata": {},
   "outputs": [],
   "source": [
    "import requests\n",
    "import time\n",
    "import sys\n",
    "from IPython.display import display, HTML, clear_output\n",
    "\n",
    "# Define the URL for the endpoints (CHANGE THIS IF WRONG)\n",
    "# base_url = \"http://localhost:8089\"\n",
    "\n",
    "# VM URL\n",
    "base_url = \"http://34.27.114.71:8080\"\n"
   ]
  }
 ],
 "metadata": {
  "kernelspec": {
   "display_name": "Python 3",
   "language": "python",
   "name": "python3"
  },
  "language_info": {
   "codemirror_mode": {
    "name": "ipython",
    "version": 3
   },
   "file_extension": ".py",
   "mimetype": "text/x-python",
   "name": "python",
   "nbconvert_exporter": "python",
   "pygments_lexer": "ipython3",
   "version": "3.9.7"
  },
  "orig_nbformat": 4
 },
 "nbformat": 4,
 "nbformat_minor": 2
}
