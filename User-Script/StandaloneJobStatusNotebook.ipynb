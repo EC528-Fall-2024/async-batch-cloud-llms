{
 "cells": [
  {
   "cell_type": "markdown",
   "metadata": {},
   "source": [
    "## Execute the steps manually in the notebook ##\n",
    "\n",
    "### Fill table below to submit batch job"
   ]
  },
  {
   "cell_type": "code",
   "execution_count": null,
   "id": "32e5e766",
   "metadata": {},
   "outputs": [],
   "source": [
    "\n",
    "# User-defined input table\n",
    "user_data = {\n",
    "    \"username\": \"your_username\",\n",
    "    \"password\": \"your_password\",\n",
    "    \"client_id\": \"example_client_id\",\n",
    "    \"project_id\": \"example_project_id\",\n",
    "    \"dataset_id\": \"example_dataset_id\",\n",
    "    \"table_id\": \"example_table_id\",\n",
    "    \"table_key\": \"{}\",\n",
    "    \"row_count\": 100,\n",
    "    \"request_column\": 0,\n",
    "    \"response_column\": 1,\n",
    "    \"llm_model\": \"gpt-3.5\",\n",
    "    \"prompt_prefix\": \"Hello,\",\n",
    "    \"prompt_postfix\": \"Thanks!\",\n",
    "}\n"
   ]
  },
  {
   "cell_type": "markdown",
   "metadata": {},
   "source": [
    "### These are helper functions  and libraries required to submit a job "
   ]
  },
  {
   "cell_type": "code",
   "execution_count": null,
   "metadata": {},
   "outputs": [],
   "source": [
    "import requests\n",
    "import time\n",
    "import logging\n",
    "\n",
    "# Configure logging\n",
    "logging.basicConfig(level=logging.INFO, format='%(asctime)s - %(levelname)s - %(message)s')"
   ]
  },
  {
   "cell_type": "code",
   "execution_count": null,
   "id": "cfa8c41e",
   "metadata": {},
   "outputs": [],
   "source": [
    "\n",
    "def retrieve_api_key():\n",
    "    username = user_data[\"username\"]\n",
    "    password = user_data[\"password\"]\n",
    "\n",
    "    auth_data = {\"username\": username, \"password\": password}\n",
    "    try:\n",
    "        response = requests.post(f\"{API_BASE_URL}/get_api_key\", json=auth_data, headers=headers, timeout=10)\n",
    "        if response.status_code == 200:\n",
    "            api_key = response.json().get(\"api_key\")\n",
    "            logging.info(f\"API key retrieved successfully: {api_key}\")\n",
    "            headers[\"x-api-key\"] = api_key\n",
    "            return api_key\n",
    "        else:\n",
    "            logging.error(f\"Error retrieving API key: {response.status_code} - {response.text}\")\n",
    "            return None\n",
    "    except requests.exceptions.RequestException as e:\n",
    "        logging.error(f\"Network error while retrieving API key: {e}\")\n",
    "        return None\n"
   ]
  },
  {
   "cell_type": "code",
   "execution_count": null,
   "id": "fbbf305c",
   "metadata": {},
   "outputs": [],
   "source": [
    "\n",
    "def get_job_data():\n",
    "    return {\n",
    "        \"client_id\": user_data[\"client_id\"],\n",
    "        \"project_id\": user_data[\"project_id\"],\n",
    "        \"dataset_id\": user_data[\"dataset_id\"],\n",
    "        \"table_id\": user_data[\"table_id\"],\n",
    "        \"table_key\": user_data[\"table_key\"],\n",
    "        \"row_count\": user_data[\"row_count\"],\n",
    "        \"request_column\": user_data[\"request_column\"],\n",
    "        \"response_column\": user_data[\"response_column\"],\n",
    "        \"llm_model\": user_data[\"llm_model\"],\n",
    "        \"prompt_prefix\": user_data[\"prompt_prefix\"],\n",
    "        \"prompt_postfix\": user_data[\"prompt_postfix\"],\n",
    "    }\n"
   ]
  },
  {
   "cell_type": "code",
   "execution_count": null,
   "metadata": {},
   "outputs": [],
   "source": [
    "def submit_job():\n",
    "    job_data = get_job_data_from_user()\n",
    "\n",
    "    try:\n",
    "        response = requests.post(f\"{API_BASE_URL}/submit_job\", json=job_data, headers=headers, timeout=10)\n",
    "        if response.status_code == 200:\n",
    "            logging.info(\"Job submitted successfully.\")\n",
    "            return response.json()['job_id']\n",
    "        else:\n",
    "            logging.error(f\"Error submitting job: {response.status_code} - {response.text}\")\n",
    "            return None\n",
    "    except requests.exceptions.RequestException as e:\n",
    "        logging.error(f\"Network error occurred: {e}\")\n",
    "        return None\n"
   ]
  },
  {
   "cell_type": "code",
   "execution_count": null,
   "metadata": {},
   "outputs": [],
   "source": [
    "def check_job_status(job_id):\n",
    "    try:\n",
    "        response = requests.get(f\"{API_BASE_URL}/job_status/{job_id}\", headers=headers, timeout=10)\n",
    "        if response.status_code == 200:\n",
    "            return response.json()\n",
    "        elif response.status_code == 404:\n",
    "            logging.warning(f\"Job with ID {job_id} not found.\")\n",
    "        else:\n",
    "            logging.error(f\"Failed to retrieve job status: {response.status_code} - {response.text}\")\n",
    "    except requests.exceptions.RequestException as e:\n",
    "        logging.error(f\"Network error while checking job status: {e}\")\n",
    "    return None\n"
   ]
  },
  {
   "cell_type": "markdown",
   "metadata": {},
   "source": [
    "### Ensure that the API URL is correct with the one hosted in the cloud"
   ]
  },
  {
   "cell_type": "code",
   "execution_count": null,
   "metadata": {},
   "outputs": [],
   "source": [
    "API_BASE_URL = \"https://flask-api-1069651367433.us-east4.run.app\"\n",
    "headers = {\n",
    "    \"Content-Type\": \"application/json\",\n",
    "}"
   ]
  },
  {
   "cell_type": "markdown",
   "metadata": {},
   "source": [
    "## Script that will submit job"
   ]
  },
  {
   "cell_type": "code",
   "execution_count": null,
   "metadata": {},
   "outputs": [],
   "source": [
    "# Step 1: Retrieve API Key\n",
    "api_key = retrieve_api_key()\n",
    "\n",
    "# Step 2: Submit a Job\n",
    "if api_key:\n",
    "    job_id = submit_job()\n",
    "    if job_id:\n",
    "        logging.info(f\"Job ID: {job_id}\")\n",
    "\n",
    "        # Step 3: Poll Job Status\n",
    "        backoff_time = 30\n",
    "        max_backoff_time = 3600\n",
    "        max_attempts = 10\n",
    "\n",
    "        attempts = 0\n",
    "        while attempts < max_attempts:\n",
    "            status = check_job_status(job_id)\n",
    "            if status:\n",
    "                logging.info(f\"Job status: {status['status']}\")\n",
    "                if status['status'] == \"completed\":\n",
    "                    logging.info(\"Job completed successfully!\")\n",
    "                    break\n",
    "                elif status['status'] == \"processing\":\n",
    "                    logging.info(\"Job is still processing. Checking again in a few seconds...\")\n",
    "            else:\n",
    "                logging.warning(\"Failed to retrieve job status. Retrying...\")\n",
    "            time.sleep(backoff_time)\n",
    "            backoff_time = min(backoff_time * 2, max_backoff_time)\n",
    "            attempts += 1\n",
    "\n",
    "        if attempts == max_attempts:\n",
    "            logging.error(\"Maximum number of attempts reached. Job status check terminated.\")\n"
   ]
  },
  {
   "cell_type": "code",
   "execution_count": null,
   "id": "25508a6f",
   "metadata": {},
   "outputs": [],
   "source": [
    "\n",
    "def check_job_status_manual():\n",
    "    # Ensure `api_key` and `job_id` are already defined in the environment\n",
    "    global api_key, job_id\n",
    "    if not api_key or not job_id:\n",
    "        raise ValueError(\"API key or Job ID not found. Please ensure the job has been initiated.\")\n",
    "\n",
    "    # URL for checking job status\n",
    "    job_status_url = f\"{API_BASE_URL}/jobs/{job_id}/status\"\n",
    "    try:\n",
    "        # Make the GET request to fetch job status\n",
    "        response = requests.get(job_status_url, headers={\"x-api-key\": api_key}, timeout=10)\n",
    "        if response.status_code == 200:\n",
    "            job_status = response.json()\n",
    "            logging.info(f\"Job Status: {job_status}\")\n",
    "            return job_status\n",
    "        else:\n",
    "            logging.error(f\"Error fetching job status: {response.status_code} - {response.text}\")\n",
    "            return None\n",
    "    except requests.exceptions.RequestException as e:\n",
    "        logging.error(f\"Network error while checking job status: {e}\")\n",
    "        return None\n",
    "\n",
    "# User Instructions:\n",
    "# After running the setup and initiating a job, you can rerun this cell at any time to check the job status.\n"
   ]
  },
  {
   "cell_type": "code",
   "execution_count": null,
   "metadata": {},
   "outputs": [],
   "source": [
    "check_job_status_manual()"
   ]
  }
 ],
 "metadata": {
  "language_info": {
   "name": "python"
  }
 },
 "nbformat": 4,
 "nbformat_minor": 2
}
