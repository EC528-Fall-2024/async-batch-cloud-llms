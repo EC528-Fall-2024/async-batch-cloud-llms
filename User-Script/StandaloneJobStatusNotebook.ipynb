{
 "cells": [
  {
   "cell_type": "markdown",
   "metadata": {},
   "source": [
    "## Execute the steps manually in the notebook ##\n",
    "\n",
    "### Fill table below to submit batch job"
   ]
  },
  {
   "cell_type": "code",
   "execution_count": null,
   "id": "32e5e766",
   "metadata": {},
   "outputs": [],
   "source": [
    "\n",
    "# User-defined input table\n",
    "user_data = {\n",
    "    \"username\": \"test_user\",\n",
    "    \"password\": \"test_password\",\n",
    "    \"client_id\": \"rick sorkin\",\n",
    "    \"User_Project_ID\": \"sampleproject-440900\",\n",
    "    \"User_Dataset_ID\": \"user_dataset\",\n",
    "    \"Input_Table_ID\": \"input_table\",\n",
    "    \"Output_Table_ID\": \"output_2\",\n",
    "    \"Model\": \"gpt-3.5-turbo\",\n",
    "    \"API_key\": \"\"\n",
    "}\n"
   ]
  },
  {
   "cell_type": "markdown",
   "metadata": {},
   "source": [
    "### These are helper functions  and libraries required to submit a job "
   ]
  },
  {
   "cell_type": "code",
   "execution_count": 1,
   "metadata": {},
   "outputs": [],
   "source": [
    "import requests\n",
    "import time\n",
    "import json\n",
    "import logging\n",
    "\n",
    "# Configure logging\n",
    "logging.basicConfig(level=logging.INFO, format='%(asctime)s - %(levelname)s - %(message)s')"
   ]
  },
  {
   "cell_type": "code",
   "execution_count": 3,
   "id": "cfa8c41e",
   "metadata": {},
   "outputs": [],
   "source": [
    "\n",
    "def retrieve_api_key():\n",
    "    username = user_data[\"username\"]\n",
    "    password = user_data[\"password\"]\n",
    "\n",
    "    auth_data = {\"username\": username, \"password\": password}\n",
    "    try:\n",
    "        response = requests.post(f\"{API_BASE_URL}/get_api_key\", json=auth_data, headers=headers, timeout=10)\n",
    "        if response.status_code == 200:\n",
    "            api_key = response.json().get(\"api_key\")\n",
    "            logging.info(f\"API key retrieved successfully: {api_key}\")\n",
    "            headers[\"x-api-key\"] = api_key\n",
    "            return api_key\n",
    "        else:\n",
    "            logging.error(f\"Error retrieving API key: {response.status_code} - {response.text}\")\n",
    "            return None\n",
    "    except requests.exceptions.RequestException as e:\n",
    "        logging.error(f\"Network error while retrieving API key: {e}\")\n",
    "        return None\n"
   ]
  },
  {
   "cell_type": "code",
   "execution_count": null,
   "id": "fbbf305c",
   "metadata": {},
   "outputs": [],
   "source": [
    "\n",
    "def get_job_data():\n",
    "    return {\n",
    "        \"client_id\": user_data[\"client_id\"],\n",
    "        \"User_Project_ID\": user_data[\"User_Project_ID\"],\n",
    "        \"User_Dataset_ID\": user_data[\"User_Dataset_ID\"],\n",
    "        \"Input_Table_ID\": user_data[\"Input_Table_ID\"],\n",
    "        \"Output_Table_ID\": user_data[\"Output_Table_ID\"],\n",
    "        \"Model\": user_data[\"Model\"],\n",
    "        \"API_key\": user_data[\"API_key\"]\n",
    "    }"
   ]
  },
  {
   "cell_type": "code",
   "execution_count": 5,
   "metadata": {},
   "outputs": [],
   "source": [
    "def submit_job():\n",
    "    job_data = get_job_data()\n",
    "\n",
    "    try:\n",
    "        response = requests.post(f\"{API_BASE_URL}/submit_job\", json=job_data, headers=headers, timeout=10)\n",
    "        if response.status_code == 200:\n",
    "            logging.info(\"Job submitted successfully.\")\n",
    "            return response.json()['job_id']\n",
    "        else:\n",
    "            logging.error(f\"Error submitting job: {response.status_code} - {response.text}\")\n",
    "            return None\n",
    "    except requests.exceptions.RequestException as e:\n",
    "        logging.error(f\"Network error occurred: {e}\")\n",
    "        return None\n"
   ]
  },
  {
   "cell_type": "code",
   "execution_count": 6,
   "metadata": {},
   "outputs": [],
   "source": [
    "def check_job_status(job_id):\n",
    "    \"\"\"\n",
    "    Checks the job status by calling the job_status endpoint.\n",
    "    \"\"\"\n",
    "    try:\n",
    "        response = requests.get(f\"{API_BASE_URL}/job_status/{job_id}\", headers=headers, timeout=10)\n",
    "        if response.status_code == 200:\n",
    "            return response.json()\n",
    "        elif response.status_code == 404:\n",
    "            logging.warning(f\"Job with ID {job_id} not found.\")\n",
    "        else:\n",
    "            logging.error(f\"Failed to retrieve job status: {response.status_code} - {response.text}\")\n",
    "    except requests.exceptions.RequestException as e:\n",
    "        logging.error(f\"Network error while checking job status: {e}\")\n",
    "    return None\n"
   ]
  },
  {
   "cell_type": "code",
   "execution_count": 7,
   "metadata": {},
   "outputs": [],
   "source": [
    "# Updated Exponential Backoff\n",
    "def wait_for_completion(job_id, max_retries=10, backoff_time=30, max_backoff_time=3600):\n",
    "    \"\"\"\n",
    "    Checks job status with exponential backoff.\n",
    "    Exits early if the job is completed.\n",
    "    \"\"\"\n",
    "    attempts = 0\n",
    "    while attempts < max_retries:\n",
    "        logging.info(f\"Attempt {attempts + 1}...\")\n",
    "        status = check_job_status(job_id)\n",
    "\n",
    "        if status:\n",
    "            logging.info(f\"Job Status Response:\\n{json.dumps(status, indent=4)}\")\n",
    "\n",
    "            # Check the job's current status\n",
    "            if status.get(\"status\") == \"completed\":\n",
    "                logging.info(\"✅ Job completed successfully!\")\n",
    "                return status\n",
    "            elif status.get(\"status\") == \"processing\":\n",
    "                logging.info(\"⏳ Job is still processing. Counts so far:\")\n",
    "                logging.info(json.dumps(status.get(\"counts\"), indent=4))\n",
    "            elif status.get(\"status\") == \"not started\":\n",
    "                logging.warning(\"⚠️ Job has not started yet.\")\n",
    "            else:\n",
    "                logging.warning(\"Unknown status: \" + status.get(\"status\", \"N/A\"))\n",
    "\n",
    "        # Wait with exponential backoff\n",
    "        time.sleep(backoff_time)\n",
    "        backoff_time = min(backoff_time * 2, max_backoff_time)\n",
    "        attempts += 1\n",
    "\n",
    "    logging.error(\"❌ Maximum number of attempts reached. Job status check terminated. Please try using check_job_status_manual() for updates on job status\")\n",
    "    return None\n",
    "\n"
   ]
  },
  {
   "cell_type": "code",
   "execution_count": 8,
   "id": "25508a6f",
   "metadata": {},
   "outputs": [],
   "source": [
    "def check_job_status_manual(api_key, job_id):\n",
    "    if not api_key or not job_id:\n",
    "        raise ValueError(\"API key or Job ID not found. Please ensure the job has been initiated.\")\n",
    "\n",
    "    status = check_job_status(job_id)\n",
    "    if status:\n",
    "        logging.info(\"🔍 Manual Check Result:\")\n",
    "        logging.info(json.dumps(status, indent=4))\n",
    "    else:\n",
    "        logging.error(\"🚨 Failed to retrieve job status. Check the API or Job ID.\")\n"
   ]
  },
  {
   "cell_type": "markdown",
   "metadata": {},
   "source": [
    "### Ensure that the API URL is correct with the one hosted in the cloud"
   ]
  },
  {
   "cell_type": "code",
   "execution_count": 9,
   "metadata": {},
   "outputs": [],
   "source": [
    "API_BASE_URL = \"http://127.0.0.1:5000\" #EDIT THIS\n",
    "headers = {\n",
    "    \"Content-Type\": \"application/json\",\n",
    "}"
   ]
  },
  {
   "cell_type": "markdown",
   "metadata": {},
   "source": [
    "## Script that will submit job"
   ]
  },
  {
   "cell_type": "code",
   "execution_count": null,
   "metadata": {},
   "outputs": [
    {
     "name": "stderr",
     "output_type": "stream",
     "text": [
      "2024-11-19 18:51:20,457 - INFO - API key retrieved successfully: a4f94d51-7fc7-4cd2-89c2-ab85388ec726\n",
      "2024-11-19 18:51:21,095 - INFO - Job submitted successfully.\n",
      "2024-11-19 18:51:21,095 - INFO - Job ID: de92ee37-17e5-4e71-b7da-24484f1a3c12\n",
      "2024-11-19 18:51:21,096 - INFO - 🚀 Starting Exponential Backoff for Job Completion...\n",
      "2024-11-19 18:51:21,096 - INFO - Attempt 1...\n",
      "2024-11-19 18:51:21,114 - ERROR - Failed to retrieve job status: 500 - {\"details\":\"name 'firestore' is not defined\",\"error\":\"Failed to retrieve job status\"}\n",
      "\n",
      "2024-11-19 18:51:51,115 - INFO - Attempt 2...\n",
      "2024-11-19 18:51:51,117 - ERROR - Failed to retrieve job status: 500 - {\"details\":\"name 'firestore' is not defined\",\"error\":\"Failed to retrieve job status\"}\n",
      "\n"
     ]
    }
   ],
   "source": [
    "# Step 1: Retrieve API Key\n",
    "api_key = retrieve_api_key()\n",
    "\n",
    "# Step 2: Submit a Job\n",
    "if api_key:\n",
    "    job_id = submit_job()\n",
    "    if job_id:\n",
    "        logging.info(f\"Job ID: {job_id}\")\n",
    "\n",
    "        # Step 3: Monitor Job Status\n",
    "        # logging.info(\"🚀 Starting Exponential Backoff for Job Completion...\")\n",
    "        # final_status = wait_for_completion(job_id, max_retries=10, backoff_time=30, max_backoff_time=3600)\n",
    "        \n",
    "        # if final_status:\n",
    "        #     logging.info(\"📊 Final Job Status Retrieved:\")\n",
    "        #     logging.info(json.dumps(final_status, indent=4))\n",
    "        # else:\n",
    "        #     logging.error(\"❌ Final Job Status Not Retrieved. Consider using manual check.\")\n",
    "\n",
    "\n"
   ]
  },
  {
   "cell_type": "markdown",
   "metadata": {},
   "source": [
    "### Manual Job Status Check"
   ]
  },
  {
   "cell_type": "code",
   "execution_count": null,
   "metadata": {},
   "outputs": [
    {
     "ename": "NameError",
     "evalue": "name 'job_id' is not defined",
     "output_type": "error",
     "traceback": [
      "\u001b[1;31m---------------------------------------------------------------------------\u001b[0m",
      "\u001b[1;31mNameError\u001b[0m                                 Traceback (most recent call last)",
      "Cell \u001b[1;32mIn[12], line 1\u001b[0m\n\u001b[1;32m----> 1\u001b[0m check_job_status_manual(api_key, \u001b[43mjob_id\u001b[49m)\n",
      "\u001b[1;31mNameError\u001b[0m: name 'job_id' is not defined"
     ]
    }
   ],
   "source": [
    "logging.info(\"🔎 Running Manual Check for Job Status...\")\n",
    "check_job_status_manual(api_key, job_id)"
   ]
  }
 ],
 "metadata": {
  "kernelspec": {
   "display_name": "venv",
   "language": "python",
   "name": "python3"
  },
  "language_info": {
   "codemirror_mode": {
    "name": "ipython",
    "version": 3
   },
   "file_extension": ".py",
   "mimetype": "text/x-python",
   "name": "python",
   "nbconvert_exporter": "python",
   "pygments_lexer": "ipython3",
   "version": "3.12.7"
  }
 },
 "nbformat": 4,
 "nbformat_minor": 2
}
