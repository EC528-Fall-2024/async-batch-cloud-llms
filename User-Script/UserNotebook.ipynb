{
 "cells": [
  {
   "cell_type": "markdown",
   "metadata": {},
   "source": [
    "## Execute the steps manually in the notebook ##\n",
    "\n",
    "### Fill table below to submit batch job"
   ]
  },
  {
   "cell_type": "code",
   "execution_count": null,
   "id": "32e5e766",
   "metadata": {},
   "outputs": [],
   "source": [
    "user_data = {\n",
    "    \"username\": \"test_user\",\n",
    "    \"password\": \"test_password\",\n",
    "    \"Client_ID\": \"test\",\n",
    "    \"User_Project_ID\": \"sampleproject-440900\",\n",
    "    \"User_Dataset_ID\": \"user_dataset\",\n",
    "    \"Input_Table_ID\": \"input_table\",\n",
    "    \"Output_Table_ID\": \"output_2\",\n",
    "    \"Model\": \"gpt-3.5-turbo\",\n",
    "    \"API_key\": \"\"  \n",
    "}"
   ]
  },
  {
   "cell_type": "markdown",
   "metadata": {},
   "source": [
    "## Script that will submit job"
   ]
  },
  {
   "cell_type": "code",
   "execution_count": null,
   "metadata": {},
   "outputs": [],
   "source": [
    "import logging\n",
    "import json\n",
    "from jobPrep import retrieve_api_key, get_job_data, submit_job\n",
    "from jobStatus import wait_for_completion, check_job_status\n",
    "\n",
    "# Step 1: Retrieve API Key\n",
    "logging.info(\"🔑 Retrieving API key...\")\n",
    "api_key = retrieve_api_key(user_data)\n",
    "\n",
    "# Step 2: Prepare and Submit Job\n",
    "if api_key:\n",
    "    logging.info(\"📋 Preparing job data...\")\n",
    "    job_data = get_job_data(user_data)\n",
    "    logging.info(\"📤 Submitting job...\")\n",
    "    job_id = submit_job(api_key, job_data)\n",
    "\n",
    "    # Step 3: Monitor Job Status\n",
    "    if job_id:\n",
    "        logging.info(\"⏳ Monitoring job status...\")\n",
    "        final_status = wait_for_completion(job_id, user_data[\"Client_ID\"], api_key,3)\n",
    "        if final_status:\n",
    "            logging.info(\"📊 Final Job Status Retrieved:\")\n",
    "            logging.info(json.dumps(final_status, indent=4))"
   ]
  },
  {
   "cell_type": "markdown",
   "metadata": {},
   "source": [
    "### Manual Job Status Check"
   ]
  },
  {
   "cell_type": "code",
   "execution_count": null,
   "metadata": {},
   "outputs": [],
   "source": [
    "check_job_status(job_id=job_id, client_id=user_data[\"Client_ID\"], api_key=api_key)"
   ]
  }
 ],
 "metadata": {
  "kernelspec": {
   "display_name": ".venv",
   "language": "python",
   "name": "python3"
  },
  "language_info": {
   "codemirror_mode": {
    "name": "ipython",
    "version": 3
   },
   "file_extension": ".py",
   "mimetype": "text/x-python",
   "name": "python",
   "nbconvert_exporter": "python",
   "pygments_lexer": "ipython3",
   "version": "3.12.7"
  }
 },
 "nbformat": 4,
 "nbformat_minor": 2
}
