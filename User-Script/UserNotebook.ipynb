{
 "cells": [
  {
   "cell_type": "markdown",
   "metadata": {},
   "source": [
    "## Execute the steps manually in the notebook ##\n",
    "\n",
    "### Fill table below to submit batch job"
   ]
  },
  {
   "cell_type": "code",
   "execution_count": null,
   "id": "32e5e766",
   "metadata": {},
   "outputs": [],
   "source": [
    "from notebookhelper import retrieve_api_key, get_job_data, submit_job, check_job_status, wait_for_completion\n",
    "\n",
    "API_BASE_URL = \"https://flask-api-1069651367433.us-central1.run.app\"\n",
    "user_data = {\n",
    "    \"username\": \"test_user\",\n",
    "    \"password\": \"test_password\",\n",
    "    \"Client_ID\": \"rick sorkin\",\n",
    "    \"User_Project_ID\": \"sampleproject-440900\",\n",
    "    \"User_Dataset_ID\": \"user_dataset\",\n",
    "    \"Input_Table_ID\": \"input_table\",\n",
    "    \"Output_Table_ID\": \"output_2\",\n",
    "    \"Model\": \"gpt-3.5-turbo\",\n",
    "    \"API_key\": \"\"  \n",
    "}\n",
    "\n",
    "\n",
    "headers = {\n",
    "    \"Content-Type\": \"application/json\",\n",
    "}"
   ]
  },
  {
   "cell_type": "markdown",
   "metadata": {},
   "source": [
    "## Script that will submit job"
   ]
  },
  {
   "cell_type": "code",
   "execution_count": 10,
   "metadata": {},
   "outputs": [
    {
     "ename": "TypeError",
     "evalue": "retrieve_api_key() takes 0 positional arguments but 3 were given",
     "output_type": "error",
     "traceback": [
      "\u001b[1;31m---------------------------------------------------------------------------\u001b[0m",
      "\u001b[1;31mTypeError\u001b[0m                                 Traceback (most recent call last)",
      "Cell \u001b[1;32mIn[10], line 2\u001b[0m\n\u001b[0;32m      1\u001b[0m \u001b[38;5;66;03m# Step 1: Retrieve API Key\u001b[39;00m\n\u001b[1;32m----> 2\u001b[0m api_key \u001b[38;5;241m=\u001b[39m \u001b[43mretrieve_api_key\u001b[49m\u001b[43m(\u001b[49m\u001b[43mAPI_BASE_URL\u001b[49m\u001b[43m,\u001b[49m\u001b[43m \u001b[49m\u001b[43muser_data\u001b[49m\u001b[43m[\u001b[49m\u001b[38;5;124;43m\"\u001b[39;49m\u001b[38;5;124;43musername\u001b[39;49m\u001b[38;5;124;43m\"\u001b[39;49m\u001b[43m]\u001b[49m\u001b[43m,\u001b[49m\u001b[43m \u001b[49m\u001b[43muser_data\u001b[49m\u001b[43m[\u001b[49m\u001b[38;5;124;43m\"\u001b[39;49m\u001b[38;5;124;43mpassword\u001b[39;49m\u001b[38;5;124;43m\"\u001b[39;49m\u001b[43m]\u001b[49m\u001b[43m)\u001b[49m\n\u001b[0;32m      4\u001b[0m \u001b[38;5;66;03m# Step 2: Prepare and Submit Job\u001b[39;00m\n\u001b[0;32m      5\u001b[0m \u001b[38;5;28;01mif\u001b[39;00m api_key:\n",
      "\u001b[1;31mTypeError\u001b[0m: retrieve_api_key() takes 0 positional arguments but 3 were given"
     ]
    }
   ],
   "source": [
    "# Step 1: Retrieve API Key\n",
    "api_key = retrieve_api_key(API_BASE_URL, user_data[\"username\"], user_data[\"password\"])\n",
    "\n",
    "# Step 2: Prepare and Submit Job\n",
    "if api_key:\n",
    "    job_data = get_job_data(user_data, api_key)\n",
    "    job_id = submit_job(API_BASE_URL, api_key, job_data)\n",
    "\n",
    "    # Step 3: Monitor Job Status\n",
    "    if job_id:\n",
    "        final_status = wait_for_completion(API_BASE_URL, job_id, user_data[\"Client_ID\"], api_key)\n",
    "        if final_status:\n",
    "            logging.info(\"📊 Final Job Status Retrieved:\")\n",
    "            logging.info(json.dumps(final_status, indent=4))\n",
    "\n"
   ]
  },
  {
   "cell_type": "markdown",
   "metadata": {},
   "source": [
    "### Manual Job Status Check"
   ]
  },
  {
   "cell_type": "code",
   "execution_count": null,
   "metadata": {},
   "outputs": [
    {
     "name": "stderr",
     "output_type": "stream",
     "text": [
      "2024-11-21 17:56:10,395 - INFO - Job 15929438-a64c-4d84-a1ba-578e862f099e is complete. Processed 13 rows.\n"
     ]
    },
    {
     "data": {
      "text/plain": [
       "{'status': 'complete',\n",
       " 'details': {'Client_ID': 'rick sorkin',\n",
       "  'Job_ID': '15929438-a64c-4d84-a1ba-578e862f099e',\n",
       "  'current_row': 13,\n",
       "  'total_rows': 13}}"
      ]
     },
     "execution_count": 197,
     "metadata": {},
     "output_type": "execute_result"
    }
   ],
   "source": [
    "# logging.info(\"🔎 Running Manual Check for Job Status...\")\n",
    "check_job_status(job_id=job_id, client_id=user_data[\"Client_ID\"], api_key=api_key)\n"
   ]
  }
 ],
 "metadata": {
  "kernelspec": {
   "display_name": "venv",
   "language": "python",
   "name": "python3"
  },
  "language_info": {
   "codemirror_mode": {
    "name": "ipython",
    "version": 3
   },
   "file_extension": ".py",
   "mimetype": "text/x-python",
   "name": "python",
   "nbconvert_exporter": "python",
   "pygments_lexer": "ipython3",
   "version": "3.12.7"
  }
 },
 "nbformat": 4,
 "nbformat_minor": 2
}
