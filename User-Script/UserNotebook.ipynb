{
 "cells": [
  {
   "cell_type": "markdown",
   "metadata": {},
   "source": [
    "## Execute the steps manually in the notebook ##\n",
    "\n",
    "### Fill table below to submit batch job"
   ]
  },
  {
   "cell_type": "code",
   "execution_count": 1,
   "id": "32e5e766",
   "metadata": {},
   "outputs": [],
   "source": [
    "user_data = {\n",
    "    \"username\": \"test_user\",\n",
    "    \"password\": \"test_password\",\n",
    "    \"Client_ID\": \"rick sorkin\",\n",
    "    \"User_Project_ID\": \"sampleproject-440900\",\n",
    "    \"User_Dataset_ID\": \"user_dataset\",\n",
    "    \"Input_Table_ID\": \"input_table\",\n",
    "    \"Output_Table_ID\": \"output_2\",\n",
    "    \"Model\": \"gpt-3.5-turbo\",\n",
    "    \"API_key\": \"\"  \n",
    "}"
   ]
  },
  {
   "cell_type": "markdown",
   "metadata": {},
   "source": [
    "## Script that will submit job"
   ]
  },
  {
   "cell_type": "code",
   "execution_count": 3,
   "metadata": {},
   "outputs": [
    {
     "name": "stderr",
     "output_type": "stream",
     "text": [
      "2024-11-21 19:36:44,028 - INFO - 🔑 Retrieving API key...\n",
      "2024-11-21 19:36:44,109 - INFO - API key retrieved successfully: c1ab6a79-a7a8-4fd9-945e-08678849debd\n",
      "2024-11-21 19:36:44,110 - INFO - 📋 Preparing job data...\n",
      "2024-11-21 19:36:44,110 - INFO - 📤 Submitting job...\n",
      "2024-11-21 19:36:44,237 - INFO - Job submitted successfully.\n",
      "2024-11-21 19:36:44,238 - INFO - ⏳ Monitoring job status...\n",
      "2024-11-21 19:36:44,239 - INFO - 🔎 Checking for Job Status...\n",
      "2024-11-21 19:36:44,344 - ERROR - Failed to retrieve job status: 500, {\"details\":\"'NoneType' object has no attribute 'get'\",\"error\":\"Failed to retrieve job status\"}\n",
      "\n",
      "2024-11-21 19:36:44,345 - ERROR - ❌ Could not retrieve job status. Retrying...\n",
      "2024-11-21 19:36:47,347 - INFO - 🔎 Checking for Job Status...\n",
      "2024-11-21 19:36:47,453 - INFO - Job beb83b57-848a-410a-a0f6-07d3ed259ac3 in progress: 3 / 13\n",
      "2024-11-21 19:36:47,454 - INFO - ⏳ Job is still in progress. Retrying in a few seconds...\n",
      "2024-11-21 19:36:50,455 - INFO - 🔎 Checking for Job Status...\n",
      "2024-11-21 19:36:50,554 - INFO - Job beb83b57-848a-410a-a0f6-07d3ed259ac3 in progress: 8 / 13\n",
      "2024-11-21 19:36:50,555 - INFO - ⏳ Job is still in progress. Retrying in a few seconds...\n",
      "2024-11-21 19:36:53,557 - INFO - 🔎 Checking for Job Status...\n",
      "2024-11-21 19:36:53,674 - INFO - Job beb83b57-848a-410a-a0f6-07d3ed259ac3 is complete. Processed 13 rows.\n",
      "2024-11-21 19:36:53,674 - INFO - ✅ Job processing is complete.\n",
      "2024-11-21 19:36:53,675 - INFO - 📊 Final Job Status Retrieved:\n",
      "2024-11-21 19:36:53,675 - INFO - {\n",
      "    \"Client_ID\": \"rick sorkin\",\n",
      "    \"Job_ID\": \"beb83b57-848a-410a-a0f6-07d3ed259ac3\",\n",
      "    \"current_row\": 13,\n",
      "    \"total_rows\": 13\n",
      "}\n"
     ]
    }
   ],
   "source": [
    "import logging\n",
    "import json\n",
    "from jobPrep import retrieve_api_key, get_job_data, submit_job\n",
    "from jobStatus import wait_for_completion, check_job_status\n",
    "\n",
    "# Step 1: Retrieve API Key\n",
    "logging.info(\"🔑 Retrieving API key...\")\n",
    "api_key = retrieve_api_key(user_data)\n",
    "\n",
    "# Step 2: Prepare and Submit Job\n",
    "if api_key:\n",
    "    logging.info(\"📋 Preparing job data...\")\n",
    "    job_data = get_job_data(user_data)\n",
    "    logging.info(\"📤 Submitting job...\")\n",
    "    job_id = submit_job(api_key, job_data)\n",
    "\n",
    "    # Step 3: Monitor Job Status\n",
    "    if job_id:\n",
    "        logging.info(\"⏳ Monitoring job status...\")\n",
    "        final_status = wait_for_completion(job_id, user_data[\"Client_ID\"], api_key,3)\n",
    "        if final_status:\n",
    "            logging.info(\"📊 Final Job Status Retrieved:\")\n",
    "            logging.info(json.dumps(final_status, indent=4))"
   ]
  },
  {
   "cell_type": "markdown",
   "metadata": {},
   "source": [
    "### Manual Job Status Check"
   ]
  },
  {
   "cell_type": "code",
   "execution_count": 4,
   "metadata": {},
   "outputs": [
    {
     "name": "stderr",
     "output_type": "stream",
     "text": [
      "2024-11-21 19:37:05,240 - INFO - 🔎 Checking for Job Status...\n",
      "2024-11-21 19:37:05,347 - INFO - Job beb83b57-848a-410a-a0f6-07d3ed259ac3 is complete. Processed 13 rows.\n"
     ]
    },
    {
     "data": {
      "text/plain": [
       "{'status': 'complete',\n",
       " 'details': {'Client_ID': 'rick sorkin',\n",
       "  'Job_ID': 'beb83b57-848a-410a-a0f6-07d3ed259ac3',\n",
       "  'current_row': 13,\n",
       "  'total_rows': 13}}"
      ]
     },
     "execution_count": 4,
     "metadata": {},
     "output_type": "execute_result"
    }
   ],
   "source": [
    "check_job_status(job_id=job_id, client_id=user_data[\"Client_ID\"], api_key=api_key)"
   ]
  }
 ],
 "metadata": {
  "kernelspec": {
   "display_name": "venv",
   "language": "python",
   "name": "python3"
  },
  "language_info": {
   "codemirror_mode": {
    "name": "ipython",
    "version": 3
   },
   "file_extension": ".py",
   "mimetype": "text/x-python",
   "name": "python",
   "nbconvert_exporter": "python",
   "pygments_lexer": "ipython3",
   "version": "3.12.7"
  }
 },
 "nbformat": 4,
 "nbformat_minor": 2
}
