{
 "cells": [
  {
   "cell_type": "markdown",
   "metadata": {},
   "source": [
    "## Execute the steps manually in the notebook ##\n",
    "\n",
    "### Fill table below to submit batch job"
   ]
  },
  {
   "cell_type": "code",
   "execution_count": 8,
   "id": "32e5e766",
   "metadata": {},
   "outputs": [],
   "source": [
    "user_data = {\n",
    "    \"username\": \"test_user\",\n",
    "    \"password\": \"test_password\",\n",
    "    \"Client_ID\": \"test\",\n",
    "    \"User_Project_ID\": \"sampleproject-440900\",\n",
    "    \"User_Dataset_ID\": \"user_dataset\",\n",
    "    \"Input_Table_ID\": \"input_table\",\n",
    "    \"Output_Table_ID\": \"output_2\",\n",
    "    \"Model\": \"gpt-3.5-turbo\",\n",
    "    \"API_key\": \"\"  \n",
    "}"
   ]
  },
  {
   "cell_type": "markdown",
   "metadata": {},
   "source": [
    "## Script that will submit job"
   ]
  },
  {
   "cell_type": "code",
   "execution_count": 9,
   "metadata": {},
   "outputs": [
    {
     "name": "stderr",
     "output_type": "stream",
     "text": [
      "2024-11-29 02:00:03,309 - INFO - 🔑 Retrieving API key...\n",
      "2024-11-29 02:00:03,517 - INFO - API key retrieved successfully: 9df025e4-ad16-4289-a759-172e883de28d\n",
      "2024-11-29 02:00:03,518 - INFO - 📋 Preparing job data...\n",
      "2024-11-29 02:00:03,519 - INFO - 📤 Submitting job...\n",
      "2024-11-29 02:00:03,706 - INFO - Job submitted successfully.\n",
      "2024-11-29 02:00:03,707 - INFO - ⏳ Monitoring job status...\n",
      "2024-11-29 02:00:03,708 - INFO - 🔎 Checking for Job Status...\n",
      "2024-11-29 02:00:03,889 - ERROR - Failed to retrieve job status: 500, {\"details\":\"'NoneType' object has no attribute 'get'\",\"error\":\"Failed to retrieve job status\"}\n",
      "\n",
      "2024-11-29 02:00:03,890 - ERROR - ❌ Could not retrieve job status. Retrying...\n",
      "2024-11-29 02:00:06,896 - INFO - 🔎 Checking for Job Status...\n",
      "2024-11-29 02:00:07,056 - ERROR - Failed to retrieve job status: 500, {\"details\":\"'NoneType' object has no attribute 'get'\",\"error\":\"Failed to retrieve job status\"}\n",
      "\n",
      "2024-11-29 02:00:07,058 - ERROR - ❌ Could not retrieve job status. Retrying...\n",
      "2024-11-29 02:00:10,064 - INFO - 🔎 Checking for Job Status...\n",
      "2024-11-29 02:00:10,255 - ERROR - Failed to retrieve job status: 500, {\"details\":\"'NoneType' object has no attribute 'get'\",\"error\":\"Failed to retrieve job status\"}\n",
      "\n",
      "2024-11-29 02:00:10,258 - ERROR - ❌ Could not retrieve job status. Retrying...\n",
      "2024-11-29 02:00:13,262 - INFO - 🔎 Checking for Job Status...\n",
      "2024-11-29 02:00:13,423 - ERROR - Failed to retrieve job status: 500, {\"details\":\"'NoneType' object has no attribute 'get'\",\"error\":\"Failed to retrieve job status\"}\n",
      "\n",
      "2024-11-29 02:00:13,424 - ERROR - ❌ Could not retrieve job status. Retrying...\n",
      "2024-11-29 02:00:16,428 - INFO - 🔎 Checking for Job Status...\n",
      "2024-11-29 02:00:16,587 - ERROR - Failed to retrieve job status: 500, {\"details\":\"'NoneType' object has no attribute 'get'\",\"error\":\"Failed to retrieve job status\"}\n",
      "\n",
      "2024-11-29 02:00:16,588 - ERROR - ❌ Could not retrieve job status. Retrying...\n",
      "2024-11-29 02:00:19,594 - INFO - 🔎 Checking for Job Status...\n",
      "2024-11-29 02:00:19,745 - INFO - Job a0a2e5d4-ec80-4545-a463-3e1966d2076d in progress: 12 / 13\n",
      "2024-11-29 02:00:19,745 - INFO - ⏳ Job is still in progress. Retrying in a few seconds...\n",
      "2024-11-29 02:00:22,751 - INFO - 🔎 Checking for Job Status...\n",
      "2024-11-29 02:00:22,893 - INFO - Job a0a2e5d4-ec80-4545-a463-3e1966d2076d is complete. Processed 13 rows.\n",
      "2024-11-29 02:00:22,894 - INFO - ✅ Job processing is complete.\n",
      "2024-11-29 02:00:22,894 - INFO - 📊 Final Job Status Retrieved:\n",
      "2024-11-29 02:00:22,894 - INFO - {\n",
      "    \"Client_ID\": \"test\",\n",
      "    \"Job_ID\": \"a0a2e5d4-ec80-4545-a463-3e1966d2076d\",\n",
      "    \"current_row\": 13,\n",
      "    \"total_rows\": 13\n",
      "}\n"
     ]
    }
   ],
   "source": [
    "import logging\n",
    "import json\n",
    "from jobPrep import retrieve_api_key, get_job_data, submit_job\n",
    "from jobStatus import wait_for_completion, check_job_status\n",
    "\n",
    "# Step 1: Retrieve API Key\n",
    "logging.info(\"🔑 Retrieving API key...\")\n",
    "api_key = retrieve_api_key(user_data)\n",
    "\n",
    "# Step 2: Prepare and Submit Job\n",
    "if api_key:\n",
    "    logging.info(\"📋 Preparing job data...\")\n",
    "    job_data = get_job_data(user_data)\n",
    "    logging.info(\"📤 Submitting job...\")\n",
    "    job_id = submit_job(api_key, job_data)\n",
    "\n",
    "    # Step 3: Monitor Job Status\n",
    "    if job_id:\n",
    "        logging.info(\"⏳ Monitoring job status...\")\n",
    "        final_status = wait_for_completion(job_id, user_data[\"Client_ID\"], api_key,3)\n",
    "        if final_status:\n",
    "            logging.info(\"📊 Final Job Status Retrieved:\")\n",
    "            logging.info(json.dumps(final_status, indent=4))"
   ]
  },
  {
   "cell_type": "markdown",
   "metadata": {},
   "source": [
    "### Manual Job Status Check"
   ]
  },
  {
   "cell_type": "code",
   "execution_count": 10,
   "metadata": {},
   "outputs": [
    {
     "name": "stderr",
     "output_type": "stream",
     "text": [
      "2024-11-29 02:00:22,903 - INFO - 🔎 Checking for Job Status...\n",
      "2024-11-29 02:00:23,050 - INFO - Job a0a2e5d4-ec80-4545-a463-3e1966d2076d is complete. Processed 13 rows.\n"
     ]
    },
    {
     "data": {
      "text/plain": [
       "{'status': 'complete',\n",
       " 'details': {'Client_ID': 'test',\n",
       "  'Job_ID': 'a0a2e5d4-ec80-4545-a463-3e1966d2076d',\n",
       "  'current_row': 13,\n",
       "  'total_rows': 13}}"
      ]
     },
     "execution_count": 10,
     "metadata": {},
     "output_type": "execute_result"
    }
   ],
   "source": [
    "check_job_status(job_id=job_id, client_id=user_data[\"Client_ID\"], api_key=api_key)"
   ]
  }
 ],
 "metadata": {
  "kernelspec": {
   "display_name": ".venv",
   "language": "python",
   "name": "python3"
  },
  "language_info": {
   "codemirror_mode": {
    "name": "ipython",
    "version": 3
   },
   "file_extension": ".py",
   "mimetype": "text/x-python",
   "name": "python",
   "nbconvert_exporter": "python",
   "pygments_lexer": "ipython3",
   "version": "3.9.7"
  }
 },
 "nbformat": 4,
 "nbformat_minor": 2
}
