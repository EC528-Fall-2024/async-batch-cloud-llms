{
 "cells": [
  {
   "cell_type": "markdown",
   "metadata": {},
   "source": [
    "## Execute the steps manually in the notebook ##\n",
    "\n",
    "### Fill table below to submit batch job"
   ]
  },
  {
   "cell_type": "code",
   "execution_count": null,
   "id": "32e5e766",
   "metadata": {},
   "outputs": [],
   "source": [
    "from notebookhelper import *\n",
    "\n",
    "# User-defined input table\n",
    "user_data = {\n",
    "    \"username\": \"test_user\",\n",
    "    \"password\": \"test_password\",\n",
    "    \"Client_ID\": \"rick sorkin\",\n",
    "    \"User_Project_ID\": \"sampleproject-440900\",\n",
    "    \"User_Dataset_ID\": \"user_dataset\",\n",
    "    \"Input_Table_ID\": \"input_table\",\n",
    "    \"Output_Table_ID\": \"output_2\",\n",
    "    \"Model\": \"gpt-3.5-turbo\",\n",
    "    \"API_key\": \"\"\n",
    "        \n",
    "}\n",
    "\n",
    "API_BASE_URL = \"https://flask-api-1069651367433.us-central1.run.app\"\n",
    "headers = {\n",
    "    \"Content-Type\": \"application/json\",\n",
    "}"
   ]
  },
  {
   "cell_type": "markdown",
   "metadata": {},
   "source": [
    "## Script that will submit job"
   ]
  },
  {
   "cell_type": "code",
   "execution_count": null,
   "metadata": {},
   "outputs": [
    {
     "name": "stderr",
     "output_type": "stream",
     "text": [
      "2024-11-21 17:55:56,915 - INFO - API key retrieved successfully: 5e7b12f6-c394-42de-9bf2-976baa0a5b3c\n",
      "2024-11-21 17:55:57,039 - INFO - Job submitted successfully.\n",
      "2024-11-21 17:55:57,040 - INFO - Job ID: 15929438-a64c-4d84-a1ba-578e862f099e\n",
      "2024-11-21 17:55:57,040 - INFO - 🚀 Monitoring job status until completion...\n",
      "2024-11-21 17:56:00,159 - ERROR - Failed to retrieve job status: 500, {\"details\":\"'NoneType' object has no attribute 'get'\",\"error\":\"Failed to retrieve job status\"}\n",
      "\n",
      "2024-11-21 17:56:00,160 - ERROR - ❌ Could not retrieve job status. Retrying...\n",
      "2024-11-21 17:56:10,279 - INFO - Job 15929438-a64c-4d84-a1ba-578e862f099e is complete. Processed 13 rows.\n",
      "2024-11-21 17:56:10,280 - INFO - ✅ Job processing is complete.\n",
      "2024-11-21 17:56:10,280 - INFO - 📊 Final Job Status Retrieved:\n",
      "2024-11-21 17:56:10,281 - INFO - {\n",
      "    \"Client_ID\": \"rick sorkin\",\n",
      "    \"Job_ID\": \"15929438-a64c-4d84-a1ba-578e862f099e\",\n",
      "    \"current_row\": 13,\n",
      "    \"total_rows\": 13\n",
      "}\n"
     ]
    }
   ],
   "source": [
    "# Step 1: Retrieve API Key\n",
    "api_key = retrieve_api_key()\n",
    "\n",
    "# Step 2: Prepare Job Data Dynamically\n",
    "if api_key:\n",
    "    job_data = get_job_data()  # Use the helper function to generate job_data\n",
    "\n",
    "    # Step 3: Submit a Job\n",
    "    job_id = submit_job(api_key, job_data)\n",
    "    if job_id:\n",
    "        logging.info(f\"Job ID: {job_id}\")\n",
    "        logging.info(\"🚀 Monitoring job status until completion...\")\n",
    "        time.sleep(5)\n",
    "        final_status = wait_for_completion(job_id, user_data[\"Client_ID\"], api_key)\n",
    "\n",
    "        if final_status:\n",
    "            logging.info(\"📊 Final Job Status Retrieved:\")\n",
    "            logging.info(json.dumps(final_status, indent=4))\n",
    "        else:\n",
    "            logging.error(\"❌ Failed to retrieve the final job status.\")\n",
    "        \n",
    "    else:\n",
    "        logging.error(\"Failed to submit the job.\")\n",
    "else:\n",
    "    logging.error(\"Failed to retrieve API key.\")\n",
    "\n"
   ]
  },
  {
   "cell_type": "markdown",
   "metadata": {},
   "source": [
    "### Manual Job Status Check"
   ]
  },
  {
   "cell_type": "code",
   "execution_count": 197,
   "metadata": {},
   "outputs": [
    {
     "name": "stderr",
     "output_type": "stream",
     "text": [
      "2024-11-21 17:56:10,395 - INFO - Job 15929438-a64c-4d84-a1ba-578e862f099e is complete. Processed 13 rows.\n"
     ]
    },
    {
     "data": {
      "text/plain": [
       "{'status': 'complete',\n",
       " 'details': {'Client_ID': 'rick sorkin',\n",
       "  'Job_ID': '15929438-a64c-4d84-a1ba-578e862f099e',\n",
       "  'current_row': 13,\n",
       "  'total_rows': 13}}"
      ]
     },
     "execution_count": 197,
     "metadata": {},
     "output_type": "execute_result"
    }
   ],
   "source": [
    "# logging.info(\"🔎 Running Manual Check for Job Status...\")\n",
    "check_job_status(job_id=job_id, client_id=user_data[\"Client_ID\"], api_key=api_key)\n"
   ]
  }
 ],
 "metadata": {
  "kernelspec": {
   "display_name": "venv",
   "language": "python",
   "name": "python3"
  },
  "language_info": {
   "codemirror_mode": {
    "name": "ipython",
    "version": 3
   },
   "file_extension": ".py",
   "mimetype": "text/x-python",
   "name": "python",
   "nbconvert_exporter": "python",
   "pygments_lexer": "ipython3",
   "version": "3.12.7"
  }
 },
 "nbformat": 4,
 "nbformat_minor": 2
}
