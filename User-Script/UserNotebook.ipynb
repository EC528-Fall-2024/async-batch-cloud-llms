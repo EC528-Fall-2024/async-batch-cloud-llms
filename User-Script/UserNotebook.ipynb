{
 "cells": [
  {
   "cell_type": "markdown",
   "metadata": {},
   "source": [
    "## Execute the steps manually in the notebook ##\n",
    "\n",
    "### Fill table below to submit batch job"
   ]
  },
  {
   "cell_type": "code",
   "execution_count": 188,
   "id": "32e5e766",
   "metadata": {},
   "outputs": [],
   "source": [
    "\n",
    "# User-defined input table\n",
    "user_data = {\n",
    "    \"username\": \"test_user\",\n",
    "    \"password\": \"test_password\",\n",
    "    \"Client_ID\": \"rick sorkin\",\n",
    "    \"User_Project_ID\": \"sampleproject-440900\",\n",
    "    \"User_Dataset_ID\": \"user_dataset\",\n",
    "    \"Input_Table_ID\": \"input_table\",\n",
    "    \"Output_Table_ID\": \"output_2\",\n",
    "    \"Model\": \"gpt-3.5-turbo\",\n",
    "    \"API_key\": \"\"\n",
    "        \n",
    "}\n"
   ]
  },
  {
   "cell_type": "markdown",
   "metadata": {},
   "source": [
    "### These are helper functions  and libraries required to submit a job "
   ]
  },
  {
   "cell_type": "code",
   "execution_count": 189,
   "metadata": {},
   "outputs": [],
   "source": [
    "import requests\n",
    "import time\n",
    "import json\n",
    "import logging\n",
    "\n",
    "# Configure logging\n",
    "logging.basicConfig(level=logging.INFO, format='%(asctime)s - %(levelname)s - %(message)s')"
   ]
  },
  {
   "cell_type": "code",
   "execution_count": 190,
   "id": "cfa8c41e",
   "metadata": {},
   "outputs": [],
   "source": [
    "\n",
    "def retrieve_api_key():\n",
    "    username = user_data[\"username\"]\n",
    "    password = user_data[\"password\"]\n",
    "\n",
    "    auth_data = {\"username\": username, \"password\": password}\n",
    "    try:\n",
    "        response = requests.post(f\"{API_BASE_URL}/get_api_key\", json=auth_data, headers=headers, timeout=10)\n",
    "        if response.status_code == 200:\n",
    "            api_key = response.json().get(\"api_key\")\n",
    "            logging.info(f\"API key retrieved successfully: {api_key}\")\n",
    "            headers[\"x-api-key\"] = api_key\n",
    "            return api_key\n",
    "        else:\n",
    "            logging.error(f\"Error retrieving API key: {response.status_code} - {response.text}\")\n",
    "            return None\n",
    "    except requests.exceptions.RequestException as e:\n",
    "        logging.error(f\"Network error while retrieving API key: {e}\")\n",
    "        return None\n"
   ]
  },
  {
   "cell_type": "code",
   "execution_count": 191,
   "id": "fbbf305c",
   "metadata": {},
   "outputs": [],
   "source": [
    "\n",
    "def get_job_data():\n",
    "    return {\n",
    "        \"Client_ID\": user_data[\"Client_ID\"],\n",
    "        \"User_Project_ID\": user_data[\"User_Project_ID\"],\n",
    "        \"User_Dataset_ID\": user_data[\"User_Dataset_ID\"],\n",
    "        \"Input_Table_ID\": user_data[\"Input_Table_ID\"],\n",
    "        \"Output_Table_ID\": user_data[\"Output_Table_ID\"],\n",
    "        \"Model\": user_data[\"Model\"],\n",
    "        \"API_key\": user_data[\"API_key\"]\n",
    "    }"
   ]
  },
  {
   "cell_type": "code",
   "execution_count": 192,
   "metadata": {},
   "outputs": [],
   "source": [
    "def submit_job(api_key, job_data):\n",
    "    headers = {\n",
    "        \"x-api-key\": api_key\n",
    "    }\n",
    "    response = requests.post(f\"{API_BASE_URL}/submit_job\", headers=headers, json=job_data)\n",
    "    if response.status_code == 200:\n",
    "        logging.info(\"Job submitted successfully.\")\n",
    "        # Correct the key name here to match the response from /submit_job endpoint\n",
    "        return response.json().get('Job_ID')\n",
    "    else:\n",
    "        logging.error(f\"Error submitting job: {response.status_code} - {response.text}\")\n",
    "        return None\n"
   ]
  },
  {
   "cell_type": "code",
   "execution_count": 193,
   "metadata": {},
   "outputs": [],
   "source": [
    "def check_job_status(job_id, client_id, api_key):\n",
    "    \"\"\"\n",
    "    Check the status of a job using its Job ID and Client ID.\n",
    "\n",
    "    Parameters:\n",
    "    - job_id: The Job ID returned from the `/submit_job` endpoint.\n",
    "    - client_id: The Client ID associated with the job.\n",
    "    - api_key: The API key retrieved earlier in the script.\n",
    "\n",
    "    Returns:\n",
    "    - A dictionary with job status or a completion message.\n",
    "    \"\"\"\n",
    "    headers = {\n",
    "        \"x-api-key\": api_key  # Use the already retrieved API key\n",
    "    }\n",
    "    params = {\n",
    "        \"Client_ID\": client_id  # Ensure the `Client_ID` is passed as required\n",
    "    }\n",
    "\n",
    "    response = requests.get(f\"{API_BASE_URL}/job_status/{job_id}\", headers=headers, params=params)\n",
    "\n",
    "    if response.status_code == 200:\n",
    "        job_data = response.json()\n",
    "        current_row = job_data.get('current_row', 0)\n",
    "        total_rows = job_data.get('total_rows', 0)\n",
    "\n",
    "        # Check if the job is complete\n",
    "        if current_row >= total_rows:\n",
    "            logging.info(f\"Job {job_id} is complete. Processed {current_row} rows.\")\n",
    "            return {\n",
    "                \"status\": \"complete\",\n",
    "                \"details\": job_data\n",
    "            }\n",
    "        else:\n",
    "            logging.info(f\"Job {job_id} in progress: {current_row} / {total_rows}\")\n",
    "            return {\n",
    "                \"status\": \"in_progress\",\n",
    "                \"details\": job_data\n",
    "            }\n",
    "    else:\n",
    "        logging.error(f\"Failed to retrieve job status: {response.status_code}, {response.text}\")\n",
    "        return None\n",
    "\n",
    "\n"
   ]
  },
  {
   "cell_type": "code",
   "execution_count": 194,
   "metadata": {},
   "outputs": [],
   "source": [
    "def wait_for_completion(job_id, client_id, api_key, interval=10):\n",
    "    \"\"\"\n",
    "    Check the job status repeatedly until it is complete.\n",
    "\n",
    "    Parameters:\n",
    "    - job_id: The ID of the job to check.\n",
    "    - client_id: The ID of the client who submitted the job.\n",
    "    - api_key: The API key retrieved earlier.\n",
    "    - interval: Time (in seconds) to wait between status checks.\n",
    "\n",
    "    Returns:\n",
    "    - The final job status details.\n",
    "    \"\"\"\n",
    "    while True:\n",
    "        # Use the updated `check_job_status` function\n",
    "        job_status = check_job_status(job_id, client_id, api_key)\n",
    "\n",
    "        if job_status:\n",
    "            if job_status[\"status\"] == \"complete\":\n",
    "                logging.info(\"✅ Job processing is complete.\")\n",
    "                return job_status[\"details\"]  # Return the final status\n",
    "            elif job_status[\"status\"] == \"in_progress\":\n",
    "                logging.info(\"⏳ Job is still in progress. Retrying in a few seconds...\")\n",
    "        else:\n",
    "            logging.error(\"❌ Could not retrieve job status. Retrying...\")\n",
    "\n",
    "        # Wait for the specified interval before checking again\n",
    "        time.sleep(interval)\n"
   ]
  },
  {
   "cell_type": "markdown",
   "metadata": {},
   "source": [
    "### Ensure that the API URL is correct with the one hosted in the cloud"
   ]
  },
  {
   "cell_type": "code",
   "execution_count": 195,
   "metadata": {},
   "outputs": [],
   "source": [
    "API_BASE_URL = \"https://flask-api-1069651367433.us-central1.run.app\"\n",
    "headers = {\n",
    "    \"Content-Type\": \"application/json\",\n",
    "}"
   ]
  },
  {
   "cell_type": "markdown",
   "metadata": {},
   "source": [
    "## Script that will submit job"
   ]
  },
  {
   "cell_type": "code",
   "execution_count": null,
   "metadata": {},
   "outputs": [
    {
     "name": "stderr",
     "output_type": "stream",
     "text": [
      "2024-11-21 17:55:56,915 - INFO - API key retrieved successfully: 5e7b12f6-c394-42de-9bf2-976baa0a5b3c\n",
      "2024-11-21 17:55:57,039 - INFO - Job submitted successfully.\n",
      "2024-11-21 17:55:57,040 - INFO - Job ID: 15929438-a64c-4d84-a1ba-578e862f099e\n",
      "2024-11-21 17:55:57,040 - INFO - 🚀 Monitoring job status until completion...\n",
      "2024-11-21 17:56:00,159 - ERROR - Failed to retrieve job status: 500, {\"details\":\"'NoneType' object has no attribute 'get'\",\"error\":\"Failed to retrieve job status\"}\n",
      "\n",
      "2024-11-21 17:56:00,160 - ERROR - ❌ Could not retrieve job status. Retrying...\n",
      "2024-11-21 17:56:10,279 - INFO - Job 15929438-a64c-4d84-a1ba-578e862f099e is complete. Processed 13 rows.\n",
      "2024-11-21 17:56:10,280 - INFO - ✅ Job processing is complete.\n",
      "2024-11-21 17:56:10,280 - INFO - 📊 Final Job Status Retrieved:\n",
      "2024-11-21 17:56:10,281 - INFO - {\n",
      "    \"Client_ID\": \"rick sorkin\",\n",
      "    \"Job_ID\": \"15929438-a64c-4d84-a1ba-578e862f099e\",\n",
      "    \"current_row\": 13,\n",
      "    \"total_rows\": 13\n",
      "}\n"
     ]
    }
   ],
   "source": [
    "# Step 1: Retrieve API Key\n",
    "api_key = retrieve_api_key()\n",
    "\n",
    "# Step 2: Prepare Job Data Dynamically\n",
    "if api_key:\n",
    "    job_data = get_job_data()  # Use the helper function to generate job_data\n",
    "\n",
    "    # Step 3: Submit a Job\n",
    "    job_id = submit_job(api_key, job_data)\n",
    "    if job_id:\n",
    "        logging.info(f\"Job ID: {job_id}\")\n",
    "        logging.info(\"🚀 Monitoring job status until completion...\")\n",
    "        time.sleep(5)\n",
    "        final_status = wait_for_completion(job_id, user_data[\"Client_ID\"], api_key)\n",
    "\n",
    "        if final_status:\n",
    "            logging.info(\"📊 Final Job Status Retrieved:\")\n",
    "            logging.info(json.dumps(final_status, indent=4))\n",
    "        else:\n",
    "            logging.error(\"❌ Failed to retrieve the final job status.\")\n",
    "        \n",
    "    else:\n",
    "        logging.error(\"Failed to submit the job.\")\n",
    "else:\n",
    "    logging.error(\"Failed to retrieve API key.\")\n",
    "\n"
   ]
  },
  {
   "cell_type": "markdown",
   "metadata": {},
   "source": [
    "### Manual Job Status Check"
   ]
  },
  {
   "cell_type": "code",
   "execution_count": 197,
   "metadata": {},
   "outputs": [
    {
     "name": "stderr",
     "output_type": "stream",
     "text": [
      "2024-11-21 17:56:10,395 - INFO - Job 15929438-a64c-4d84-a1ba-578e862f099e is complete. Processed 13 rows.\n"
     ]
    },
    {
     "data": {
      "text/plain": [
       "{'status': 'complete',\n",
       " 'details': {'Client_ID': 'rick sorkin',\n",
       "  'Job_ID': '15929438-a64c-4d84-a1ba-578e862f099e',\n",
       "  'current_row': 13,\n",
       "  'total_rows': 13}}"
      ]
     },
     "execution_count": 197,
     "metadata": {},
     "output_type": "execute_result"
    }
   ],
   "source": [
    "# logging.info(\"🔎 Running Manual Check for Job Status...\")\n",
    "check_job_status(job_id=job_id, client_id=user_data[\"Client_ID\"], api_key=api_key)\n"
   ]
  }
 ],
 "metadata": {
  "kernelspec": {
   "display_name": "venv",
   "language": "python",
   "name": "python3"
  },
  "language_info": {
   "codemirror_mode": {
    "name": "ipython",
    "version": 3
   },
   "file_extension": ".py",
   "mimetype": "text/x-python",
   "name": "python",
   "nbconvert_exporter": "python",
   "pygments_lexer": "ipython3",
   "version": "3.12.7"
  }
 },
 "nbformat": 4,
 "nbformat_minor": 2
}
