{
 "cells": [
  {
   "cell_type": "markdown",
   "metadata": {},
   "source": [
    "## Execute the steps manually in the notebook ##"
   ]
  },
  {
   "cell_type": "code",
   "execution_count": null,
   "metadata": {},
   "outputs": [],
   "source": [
    "import requests\n",
    "import time\n",
    "import logging\n",
    "\n",
    "# Configure logging\n",
    "logging.basicConfig(level=logging.INFO, format='%(asctime)s - %(levelname)s - %(message)s')"
   ]
  },
  {
   "cell_type": "markdown",
   "metadata": {},
   "source": [
    "### Ensure that the API URL is the correct one bellow"
   ]
  },
  {
   "cell_type": "code",
   "execution_count": null,
   "metadata": {},
   "outputs": [],
   "source": [
    "API_BASE_URL = \"https://flask-api-1069651367433.us-east4.run.app\"\n",
    "headers = {\n",
    "    \"Content-Type\": \"application/json\",\n",
    "}"
   ]
  },
  {
   "cell_type": "markdown",
   "metadata": {},
   "source": [
    "### Function to Retreive API Key"
   ]
  },
  {
   "cell_type": "code",
   "execution_count": null,
   "metadata": {},
   "outputs": [],
   "source": [
    "def retrieve_api_key():\n",
    "    username = input(\"Enter your username: \")\n",
    "    password = input(\"Enter your password: \")\n",
    "\n",
    "    auth_data = {\"username\": username, \"password\": password}\n",
    "    try:\n",
    "        response = requests.post(f\"{API_BASE_URL}/get_api_key\", json=auth_data, headers=headers, timeout=10)\n",
    "        if response.status_code == 200:\n",
    "            api_key = response.json().get(\"api_key\")\n",
    "            logging.info(f\"API key retrieved successfully: {api_key}\")\n",
    "            headers[\"x-api-key\"] = api_key\n",
    "            return api_key\n",
    "        else:\n",
    "            logging.error(f\"Error retrieving API key: {response.status_code} - {response.text}\")\n",
    "            return None\n",
    "    except requests.exceptions.RequestException as e:\n",
    "        logging.error(f\"Network error while retrieving API key: {e}\")\n",
    "        return None\n"
   ]
  },
  {
   "cell_type": "markdown",
   "metadata": {},
   "source": [
    "### Function to Obtain prompt and data"
   ]
  },
  {
   "cell_type": "code",
   "execution_count": null,
   "metadata": {},
   "outputs": [],
   "source": [
    "def get_job_data_from_user():\n",
    "    client_id = input(\"Enter client ID: \")\n",
    "    project_id = input(\"Enter project ID: \")\n",
    "    dataset_id = input(\"Enter dataset ID: \")\n",
    "    table_id = input(\"Enter table ID: \")\n",
    "    table_key = input(\"Enter table key (as JSON object): \") or \"{}\"\n",
    "    row_count = int(input(\"Enter row count: \"))\n",
    "    request_column = int(input(\"Enter request column index: \"))\n",
    "    response_column = int(input(\"Enter response column index: \"))\n",
    "    llm_model = input(\"Enter LLM model (e.g., gpt-3.5): \")\n",
    "    prompt_prefix = input(\"Enter prompt prefix: \")\n",
    "    prompt_postfix = input(\"Enter prompt postfix: \")\n",
    "\n",
    "    return {\n",
    "        \"client_id\": client_id,\n",
    "        \"project_id\": project_id,\n",
    "        \"dataset_id\": dataset_id,\n",
    "        \"table_id\": table_id,\n",
    "        \"table_key\": table_key,\n",
    "        \"row_count\": row_count,\n",
    "        \"request_column\": request_column,\n",
    "        \"response_column\": response_column,\n",
    "        \"llm_model\": llm_model,\n",
    "        \"prompt_prefix\": prompt_prefix,\n",
    "        \"prompt_postfix\": prompt_postfix,\n",
    "    }\n"
   ]
  },
  {
   "cell_type": "markdown",
   "metadata": {},
   "source": [
    "### Function to Submit Job"
   ]
  },
  {
   "cell_type": "code",
   "execution_count": null,
   "metadata": {},
   "outputs": [],
   "source": [
    "def submit_job():\n",
    "    job_data = get_job_data_from_user()\n",
    "\n",
    "    try:\n",
    "        response = requests.post(f\"{API_BASE_URL}/submit_job\", json=job_data, headers=headers, timeout=10)\n",
    "        if response.status_code == 200:\n",
    "            logging.info(\"Job submitted successfully.\")\n",
    "            return response.json()['job_id']\n",
    "        else:\n",
    "            logging.error(f\"Error submitting job: {response.status_code} - {response.text}\")\n",
    "            return None\n",
    "    except requests.exceptions.RequestException as e:\n",
    "        logging.error(f\"Network error occurred: {e}\")\n",
    "        return None\n"
   ]
  },
  {
   "cell_type": "markdown",
   "metadata": {},
   "source": [
    "### Function to Check Job Status"
   ]
  },
  {
   "cell_type": "code",
   "execution_count": null,
   "metadata": {},
   "outputs": [],
   "source": [
    "def check_job_status(job_id):\n",
    "    try:\n",
    "        response = requests.get(f\"{API_BASE_URL}/job_status/{job_id}\", headers=headers, timeout=10)\n",
    "        if response.status_code == 200:\n",
    "            return response.json()\n",
    "        elif response.status_code == 404:\n",
    "            logging.warning(f\"Job with ID {job_id} not found.\")\n",
    "        else:\n",
    "            logging.error(f\"Failed to retrieve job status: {response.status_code} - {response.text}\")\n",
    "    except requests.exceptions.RequestException as e:\n",
    "        logging.error(f\"Network error while checking job status: {e}\")\n",
    "    return None\n"
   ]
  },
  {
   "cell_type": "markdown",
   "metadata": {},
   "source": [
    "### Script to initialize the Job"
   ]
  },
  {
   "cell_type": "code",
   "execution_count": null,
   "metadata": {},
   "outputs": [],
   "source": [
    "# Step 1: Retrieve API Key\n",
    "api_key = retrieve_api_key()\n",
    "\n",
    "# Step 2: Submit a Job\n",
    "if api_key:\n",
    "    job_id = submit_job()\n",
    "    if job_id:\n",
    "        logging.info(f\"Job ID: {job_id}\")\n",
    "\n",
    "        # Step 3: Poll Job Status\n",
    "        backoff_time = 30\n",
    "        max_backoff_time = 3600\n",
    "        max_attempts = 10\n",
    "\n",
    "        attempts = 0\n",
    "        while attempts < max_attempts:\n",
    "            status = check_job_status(job_id)\n",
    "            if status:\n",
    "                logging.info(f\"Job status: {status['status']}\")\n",
    "                if status['status'] == \"completed\":\n",
    "                    logging.info(\"Job completed successfully!\")\n",
    "                    break\n",
    "                elif status['status'] == \"processing\":\n",
    "                    logging.info(\"Job is still processing. Checking again in a few seconds...\")\n",
    "            else:\n",
    "                logging.warning(\"Failed to retrieve job status. Retrying...\")\n",
    "            time.sleep(backoff_time)\n",
    "            backoff_time = min(backoff_time * 2, max_backoff_time)\n",
    "            attempts += 1\n",
    "\n",
    "        if attempts == max_attempts:\n",
    "            logging.error(\"Maximum number of attempts reached. Job status check terminated.\")\n"
   ]
  }
 ],
 "metadata": {
  "language_info": {
   "name": "python"
  }
 },
 "nbformat": 4,
 "nbformat_minor": 2
}
