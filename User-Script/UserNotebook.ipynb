{
 "cells": [
  {
   "cell_type": "markdown",
   "metadata": {},
   "source": [
    "## Execute the steps manually in the notebook ##\n",
    "\n",
    "### Fill table below to submit batch job"
   ]
  },
  {
   "cell_type": "code",
   "execution_count": 1,
   "id": "32e5e766",
   "metadata": {},
   "outputs": [],
   "source": [
    "user_data = {\n",
    "    \"username\": \"test_user\",\n",
    "    \"password\": \"test_password\",\n",
    "    \"Client_ID\": \"test\",\n",
    "    \"User_Project_ID\": \"sampleproject-440900\",\n",
    "    \"User_Dataset_ID\": \"user_dataset\",\n",
    "    \"Input_Table_ID\": \"input_table\",\n",
    "    \"Output_Table_ID\": \"output_2\",\n",
    "    \"Model\": \"gpt-3.5-turbo\",\n",
    "    \"API_key\": \"\"  \n",
    "}"
   ]
  },
  {
   "cell_type": "markdown",
   "metadata": {},
   "source": [
    "## Script that will submit job"
   ]
  },
  {
   "cell_type": "code",
   "execution_count": 2,
   "metadata": {},
   "outputs": [
    {
     "name": "stderr",
     "output_type": "stream",
     "text": [
      "2024-11-28 18:23:19,158 - INFO - 🔑 Retrieving API key...\n",
      "2024-11-28 18:23:19,270 - INFO - API key retrieved successfully: 5d1f0dff-508d-46fb-9645-319df610ff65\n",
      "2024-11-28 18:23:19,271 - INFO - 📋 Preparing job data...\n",
      "2024-11-28 18:23:19,272 - INFO - 📤 Submitting job...\n",
      "2024-11-28 18:23:19,436 - INFO - Job submitted successfully.\n",
      "2024-11-28 18:23:19,437 - INFO - ⏳ Monitoring job status...\n",
      "2024-11-28 18:23:19,437 - INFO - 🔎 Checking for Job Status...\n",
      "2024-11-28 18:23:19,584 - ERROR - Failed to retrieve job status: 500, {\"details\":\"'NoneType' object has no attribute 'get'\",\"error\":\"Failed to retrieve job status\"}\n",
      "\n",
      "2024-11-28 18:23:19,585 - ERROR - ❌ Could not retrieve job status. Retrying...\n",
      "2024-11-28 18:23:22,587 - INFO - 🔎 Checking for Job Status...\n",
      "2024-11-28 18:23:22,719 - ERROR - Failed to retrieve job status: 500, {\"details\":\"'NoneType' object has no attribute 'get'\",\"error\":\"Failed to retrieve job status\"}\n",
      "\n",
      "2024-11-28 18:23:22,719 - ERROR - ❌ Could not retrieve job status. Retrying...\n",
      "2024-11-28 18:23:25,721 - INFO - 🔎 Checking for Job Status...\n",
      "2024-11-28 18:23:25,880 - ERROR - Failed to retrieve job status: 500, {\"details\":\"'NoneType' object has no attribute 'get'\",\"error\":\"Failed to retrieve job status\"}\n",
      "\n",
      "2024-11-28 18:23:25,881 - ERROR - ❌ Could not retrieve job status. Retrying...\n",
      "2024-11-28 18:23:28,882 - INFO - 🔎 Checking for Job Status...\n",
      "2024-11-28 18:23:29,008 - INFO - Job 94163ce7-b891-4fd8-a759-da3ef437ad05 in progress: 2 / 13\n",
      "2024-11-28 18:23:29,009 - INFO - ⏳ Job is still in progress. Retrying in a few seconds...\n",
      "2024-11-28 18:23:32,009 - INFO - 🔎 Checking for Job Status...\n",
      "2024-11-28 18:23:32,151 - INFO - Job 94163ce7-b891-4fd8-a759-da3ef437ad05 in progress: 7 / 13\n",
      "2024-11-28 18:23:32,152 - INFO - ⏳ Job is still in progress. Retrying in a few seconds...\n",
      "2024-11-28 18:23:35,154 - INFO - 🔎 Checking for Job Status...\n",
      "2024-11-28 18:23:35,299 - INFO - Job 94163ce7-b891-4fd8-a759-da3ef437ad05 is complete. Processed 13 rows.\n",
      "2024-11-28 18:23:35,300 - INFO - ✅ Job processing is complete.\n",
      "2024-11-28 18:23:35,300 - INFO - 📊 Final Job Status Retrieved:\n",
      "2024-11-28 18:23:35,301 - INFO - {\n",
      "    \"Client_ID\": \"test\",\n",
      "    \"Job_ID\": \"94163ce7-b891-4fd8-a759-da3ef437ad05\",\n",
      "    \"current_row\": 13,\n",
      "    \"total_rows\": 13\n",
      "}\n"
     ]
    }
   ],
   "source": [
    "import logging\n",
    "import json\n",
    "from jobPrep import retrieve_api_key, get_job_data, submit_job\n",
    "from jobStatus import wait_for_completion, check_job_status\n",
    "\n",
    "# Step 1: Retrieve API Key\n",
    "logging.info(\"🔑 Retrieving API key...\")\n",
    "api_key = retrieve_api_key(user_data)\n",
    "\n",
    "# Step 2: Prepare and Submit Job\n",
    "if api_key:\n",
    "    logging.info(\"📋 Preparing job data...\")\n",
    "    job_data = get_job_data(user_data)\n",
    "    logging.info(\"📤 Submitting job...\")\n",
    "    job_id = submit_job(api_key, job_data)\n",
    "\n",
    "    # Step 3: Monitor Job Status\n",
    "    if job_id:\n",
    "        logging.info(\"⏳ Monitoring job status...\")\n",
    "        final_status = wait_for_completion(job_id, user_data[\"Client_ID\"], api_key,3)\n",
    "        if final_status:\n",
    "            logging.info(\"📊 Final Job Status Retrieved:\")\n",
    "            logging.info(json.dumps(final_status, indent=4))"
   ]
  },
  {
   "cell_type": "markdown",
   "metadata": {},
   "source": [
    "### Manual Job Status Check"
   ]
  },
  {
   "cell_type": "code",
   "execution_count": 3,
   "metadata": {},
   "outputs": [
    {
     "name": "stderr",
     "output_type": "stream",
     "text": [
      "2024-11-28 18:23:35,307 - INFO - 🔎 Checking for Job Status...\n",
      "2024-11-28 18:23:35,445 - INFO - Job 94163ce7-b891-4fd8-a759-da3ef437ad05 is complete. Processed 13 rows.\n"
     ]
    },
    {
     "data": {
      "text/plain": [
       "{'status': 'complete',\n",
       " 'details': {'Client_ID': 'test',\n",
       "  'Job_ID': '94163ce7-b891-4fd8-a759-da3ef437ad05',\n",
       "  'current_row': 13,\n",
       "  'total_rows': 13}}"
      ]
     },
     "execution_count": 3,
     "metadata": {},
     "output_type": "execute_result"
    }
   ],
   "source": [
    "check_job_status(job_id=job_id, client_id=user_data[\"Client_ID\"], api_key=api_key)"
   ]
  }
 ],
 "metadata": {
  "kernelspec": {
   "display_name": ".venv",
   "language": "python",
   "name": "python3"
  },
  "language_info": {
   "codemirror_mode": {
    "name": "ipython",
    "version": 3
   },
   "file_extension": ".py",
   "mimetype": "text/x-python",
   "name": "python",
   "nbconvert_exporter": "python",
   "pygments_lexer": "ipython3",
   "version": "3.12.7"
  }
 },
 "nbformat": 4,
 "nbformat_minor": 2
}
